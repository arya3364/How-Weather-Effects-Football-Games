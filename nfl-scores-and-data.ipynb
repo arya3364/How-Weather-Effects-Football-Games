{
 "cells": [
  {
   "cell_type": "code",
   "execution_count": 1,
   "id": "21bf4916",
   "metadata": {
    "_cell_guid": "b1076dfc-b9ad-4769-8c92-a6c4dae69d19",
    "_uuid": "8f2839f25d086af736a60e9eeb907d3b93b6e0e5",
    "execution": {
     "iopub.execute_input": "2022-02-08T21:21:45.109410Z",
     "iopub.status.busy": "2022-02-08T21:21:45.108847Z",
     "iopub.status.idle": "2022-02-08T21:21:45.124338Z",
     "shell.execute_reply": "2022-02-08T21:21:45.123739Z",
     "shell.execute_reply.started": "2022-02-04T18:02:40.208709Z"
    },
    "papermill": {
     "duration": 0.043637,
     "end_time": "2022-02-08T21:21:45.124481",
     "exception": false,
     "start_time": "2022-02-08T21:21:45.080844",
     "status": "completed"
    },
    "tags": []
   },
   "outputs": [
    {
     "name": "stdout",
     "output_type": "stream",
     "text": [
      "/kaggle/input/nfl-scores-and-betting-data/nfl_stadiums.csv\n",
      "/kaggle/input/nfl-scores-and-betting-data/nfl_teams.csv\n",
      "/kaggle/input/nfl-scores-and-betting-data/spreadspoke_scores.csv\n",
      "/kaggle/input/nfl-scores-and-betting-data/spreadspoke.R\n"
     ]
    }
   ],
   "source": [
    "# This Python 3 environment comes with many helpful analytics libraries installed\n",
    "# It is defined by the kaggle/python Docker image: https://github.com/kaggle/docker-python\n",
    "# For example, here's several helpful packages to load\n",
    "\n",
    "import numpy as np # linear algebra\n",
    "import pandas as pd # data processing, CSV file I/O (e.g. pd.read_csv)\n",
    "\n",
    "# Input data files are available in the read-only \"../input/\" directory\n",
    "# For example, running this (by clicking run or pressing Shift+Enter) will list all files under the input directory\n",
    "\n",
    "import os\n",
    "for dirname, _, filenames in os.walk('/kaggle/input'):\n",
    "    for filename in filenames:\n",
    "        print(os.path.join(dirname, filename))\n",
    "\n",
    "# You can write up to 20GB to the current directory (/kaggle/working/) that gets preserved as output when you create a version using \"Save & Run All\" \n",
    "# You can also write temporary files to /kaggle/temp/, but they won't be saved outside of the current session"
   ]
  },
  {
   "cell_type": "markdown",
   "id": "b176667f",
   "metadata": {
    "papermill": {
     "duration": 0.014679,
     "end_time": "2022-02-08T21:21:45.155152",
     "exception": false,
     "start_time": "2022-02-08T21:21:45.140473",
     "status": "completed"
    },
    "tags": []
   },
   "source": [
    "Some of the default packages that will be implemented throughout the Python script. The main focus of my particular script will really be just to look at mainly the the pandas package and gain some experience with data processing."
   ]
  },
  {
   "cell_type": "code",
   "execution_count": 2,
   "id": "3c51e48c",
   "metadata": {
    "execution": {
     "iopub.execute_input": "2022-02-08T21:21:45.190808Z",
     "iopub.status.busy": "2022-02-08T21:21:45.190155Z",
     "iopub.status.idle": "2022-02-08T21:21:45.250108Z",
     "shell.execute_reply": "2022-02-08T21:21:45.249584Z",
     "shell.execute_reply.started": "2022-02-04T18:02:40.244211Z"
    },
    "papermill": {
     "duration": 0.080045,
     "end_time": "2022-02-08T21:21:45.250257",
     "exception": false,
     "start_time": "2022-02-08T21:21:45.170212",
     "status": "completed"
    },
    "tags": []
   },
   "outputs": [],
   "source": [
    "# This just reads in the spreadspoke_scores.csv file\n",
    "\n",
    "games = pd.read_csv(\"../input/nfl-scores-and-betting-data/spreadspoke_scores.csv\")"
   ]
  },
  {
   "cell_type": "code",
   "execution_count": 3,
   "id": "04f851e0",
   "metadata": {
    "execution": {
     "iopub.execute_input": "2022-02-08T21:21:45.283700Z",
     "iopub.status.busy": "2022-02-08T21:21:45.282991Z",
     "iopub.status.idle": "2022-02-08T21:21:45.285824Z",
     "shell.execute_reply": "2022-02-08T21:21:45.286238Z",
     "shell.execute_reply.started": "2022-02-04T18:02:40.298953Z"
    },
    "papermill": {
     "duration": 0.020569,
     "end_time": "2022-02-08T21:21:45.286363",
     "exception": false,
     "start_time": "2022-02-08T21:21:45.265794",
     "status": "completed"
    },
    "tags": []
   },
   "outputs": [],
   "source": [
    "# This is just a good command to check that the data file has been read in.\n",
    "# All this command does is display the first 5 rows of a file as it has been\n",
    "# initiated with default parameters.\n",
    "\n",
    "#games.head()"
   ]
  },
  {
   "cell_type": "code",
   "execution_count": 4,
   "id": "ff3af767",
   "metadata": {
    "execution": {
     "iopub.execute_input": "2022-02-08T21:21:45.319123Z",
     "iopub.status.busy": "2022-02-08T21:21:45.318469Z",
     "iopub.status.idle": "2022-02-08T21:21:45.328162Z",
     "shell.execute_reply": "2022-02-08T21:21:45.328614Z",
     "shell.execute_reply.started": "2022-02-04T18:02:40.304164Z"
    },
    "papermill": {
     "duration": 0.027325,
     "end_time": "2022-02-08T21:21:45.328740",
     "exception": false,
     "start_time": "2022-02-08T21:21:45.301415",
     "status": "completed"
    },
    "tags": []
   },
   "outputs": [],
   "source": [
    "# Here we are essentially using this line to allow us to only work with games that were schedule after 2009.\n",
    "\n",
    "games_2010s = games[ games.schedule_season > 2009]\n",
    "\n",
    "# We use this line just to double check that it is working by printing out the first five lines of the 2010 games.\n",
    "\n",
    "#games_2010s.head()"
   ]
  },
  {
   "cell_type": "code",
   "execution_count": 5,
   "id": "1bd70121",
   "metadata": {
    "execution": {
     "iopub.execute_input": "2022-02-08T21:21:45.366077Z",
     "iopub.status.busy": "2022-02-08T21:21:45.365426Z",
     "iopub.status.idle": "2022-02-08T21:21:45.371661Z",
     "shell.execute_reply": "2022-02-08T21:21:45.372133Z",
     "shell.execute_reply.started": "2022-02-04T18:02:40.320675Z"
    },
    "papermill": {
     "duration": 0.02835,
     "end_time": "2022-02-08T21:21:45.372279",
     "exception": false,
     "start_time": "2022-02-08T21:21:45.343929",
     "status": "completed"
    },
    "tags": []
   },
   "outputs": [
    {
     "data": {
      "text/plain": [
       "weather_detail\n",
       "DOME                    802\n",
       "DOME (Open Roof)         56\n",
       "Fog                      25\n",
       "Rain                    101\n",
       "Rain | Fog               18\n",
       "Snow                     13\n",
       "Snow | Fog                5\n",
       "Snow | Freezing Rain      1\n",
       "dtype: int64"
      ]
     },
     "execution_count": 5,
     "metadata": {},
     "output_type": "execute_result"
    }
   ],
   "source": [
    "# This command outputs the number of games played in each weather detail. Useful as the goal of this project is to determine how weather effects football games.\n",
    "# So it is a useful command to just give us a preview of the type of data set that we will be working with.\n",
    "\n",
    "games_2010s.groupby('weather_detail').size()"
   ]
  },
  {
   "cell_type": "code",
   "execution_count": 6,
   "id": "6d03d2a4",
   "metadata": {
    "execution": {
     "iopub.execute_input": "2022-02-08T21:21:45.408834Z",
     "iopub.status.busy": "2022-02-08T21:21:45.408203Z",
     "iopub.status.idle": "2022-02-08T21:21:45.411814Z",
     "shell.execute_reply": "2022-02-08T21:21:45.412235Z",
     "shell.execute_reply.started": "2022-02-04T18:02:40.333483Z"
    },
    "papermill": {
     "duration": 0.024692,
     "end_time": "2022-02-08T21:21:45.412376",
     "exception": false,
     "start_time": "2022-02-08T21:21:45.387684",
     "status": "completed"
    },
    "tags": []
   },
   "outputs": [],
   "source": [
    "# This is just some starter code syntax for building scatterplots in the pandas environment.\n",
    "\n",
    "#games_2010s.plot(kind = 'scatter', x = 'score_away', y = 'score_home')"
   ]
  },
  {
   "cell_type": "code",
   "execution_count": 7,
   "id": "b2188e3b",
   "metadata": {
    "execution": {
     "iopub.execute_input": "2022-02-08T21:21:45.452630Z",
     "iopub.status.busy": "2022-02-08T21:21:45.451972Z",
     "iopub.status.idle": "2022-02-08T21:21:45.491096Z",
     "shell.execute_reply": "2022-02-08T21:21:45.491529Z",
     "shell.execute_reply.started": "2022-02-04T18:02:40.338305Z"
    },
    "papermill": {
     "duration": 0.060174,
     "end_time": "2022-02-08T21:21:45.491688",
     "exception": false,
     "start_time": "2022-02-08T21:21:45.431514",
     "status": "completed"
    },
    "tags": []
   },
   "outputs": [
    {
     "name": "stderr",
     "output_type": "stream",
     "text": [
      "/opt/conda/lib/python3.7/site-packages/ipykernel_launcher.py:3: SettingWithCopyWarning: \n",
      "A value is trying to be set on a copy of a slice from a DataFrame.\n",
      "Try using .loc[row_indexer,col_indexer] = value instead\n",
      "\n",
      "See the caveats in the documentation: https://pandas.pydata.org/pandas-docs/stable/user_guide/indexing.html#returning-a-view-versus-a-copy\n",
      "  This is separate from the ipykernel package so we can avoid doing imports until\n"
     ]
    },
    {
     "data": {
      "text/html": [
       "<div>\n",
       "<style scoped>\n",
       "    .dataframe tbody tr th:only-of-type {\n",
       "        vertical-align: middle;\n",
       "    }\n",
       "\n",
       "    .dataframe tbody tr th {\n",
       "        vertical-align: top;\n",
       "    }\n",
       "\n",
       "    .dataframe thead th {\n",
       "        text-align: right;\n",
       "    }\n",
       "</style>\n",
       "<table border=\"1\" class=\"dataframe\">\n",
       "  <thead>\n",
       "    <tr style=\"text-align: right;\">\n",
       "      <th></th>\n",
       "      <th>schedule_date</th>\n",
       "      <th>schedule_season</th>\n",
       "      <th>schedule_week</th>\n",
       "      <th>schedule_playoff</th>\n",
       "      <th>team_home</th>\n",
       "      <th>score_home</th>\n",
       "      <th>score_away</th>\n",
       "      <th>team_away</th>\n",
       "      <th>team_favorite_id</th>\n",
       "      <th>spread_favorite</th>\n",
       "      <th>over_under_line</th>\n",
       "      <th>stadium</th>\n",
       "      <th>stadium_neutral</th>\n",
       "      <th>weather_temperature</th>\n",
       "      <th>weather_wind_mph</th>\n",
       "      <th>weather_humidity</th>\n",
       "      <th>weather_detail</th>\n",
       "      <th>total_pts</th>\n",
       "    </tr>\n",
       "  </thead>\n",
       "  <tbody>\n",
       "    <tr>\n",
       "      <th>10008</th>\n",
       "      <td>9/9/2010</td>\n",
       "      <td>2010</td>\n",
       "      <td>1</td>\n",
       "      <td>False</td>\n",
       "      <td>New Orleans Saints</td>\n",
       "      <td>14</td>\n",
       "      <td>9</td>\n",
       "      <td>Minnesota Vikings</td>\n",
       "      <td>NO</td>\n",
       "      <td>-5.0</td>\n",
       "      <td>49.5</td>\n",
       "      <td>Louisiana Superdome</td>\n",
       "      <td>False</td>\n",
       "      <td>72.0</td>\n",
       "      <td>0.0</td>\n",
       "      <td>NaN</td>\n",
       "      <td>DOME</td>\n",
       "      <td>23</td>\n",
       "    </tr>\n",
       "    <tr>\n",
       "      <th>10009</th>\n",
       "      <td>9/12/2010</td>\n",
       "      <td>2010</td>\n",
       "      <td>1</td>\n",
       "      <td>False</td>\n",
       "      <td>Buffalo Bills</td>\n",
       "      <td>10</td>\n",
       "      <td>15</td>\n",
       "      <td>Miami Dolphins</td>\n",
       "      <td>MIA</td>\n",
       "      <td>-3.0</td>\n",
       "      <td>39</td>\n",
       "      <td>Ralph Wilson Stadium</td>\n",
       "      <td>False</td>\n",
       "      <td>64.0</td>\n",
       "      <td>7.0</td>\n",
       "      <td>81.0</td>\n",
       "      <td>NaN</td>\n",
       "      <td>25</td>\n",
       "    </tr>\n",
       "    <tr>\n",
       "      <th>10010</th>\n",
       "      <td>9/12/2010</td>\n",
       "      <td>2010</td>\n",
       "      <td>1</td>\n",
       "      <td>False</td>\n",
       "      <td>Chicago Bears</td>\n",
       "      <td>19</td>\n",
       "      <td>14</td>\n",
       "      <td>Detroit Lions</td>\n",
       "      <td>CHI</td>\n",
       "      <td>-6.5</td>\n",
       "      <td>45</td>\n",
       "      <td>Soldier Field</td>\n",
       "      <td>False</td>\n",
       "      <td>75.0</td>\n",
       "      <td>1.0</td>\n",
       "      <td>45.0</td>\n",
       "      <td>NaN</td>\n",
       "      <td>33</td>\n",
       "    </tr>\n",
       "    <tr>\n",
       "      <th>10011</th>\n",
       "      <td>9/12/2010</td>\n",
       "      <td>2010</td>\n",
       "      <td>1</td>\n",
       "      <td>False</td>\n",
       "      <td>Houston Texans</td>\n",
       "      <td>34</td>\n",
       "      <td>24</td>\n",
       "      <td>Indianapolis Colts</td>\n",
       "      <td>IND</td>\n",
       "      <td>-1.0</td>\n",
       "      <td>48</td>\n",
       "      <td>Reliant Stadium</td>\n",
       "      <td>False</td>\n",
       "      <td>89.0</td>\n",
       "      <td>5.0</td>\n",
       "      <td>NaN</td>\n",
       "      <td>DOME (Open Roof)</td>\n",
       "      <td>58</td>\n",
       "    </tr>\n",
       "    <tr>\n",
       "      <th>10012</th>\n",
       "      <td>9/12/2010</td>\n",
       "      <td>2010</td>\n",
       "      <td>1</td>\n",
       "      <td>False</td>\n",
       "      <td>Jacksonville Jaguars</td>\n",
       "      <td>24</td>\n",
       "      <td>17</td>\n",
       "      <td>Denver Broncos</td>\n",
       "      <td>JAX</td>\n",
       "      <td>-3.0</td>\n",
       "      <td>41.5</td>\n",
       "      <td>EverBank Field</td>\n",
       "      <td>False</td>\n",
       "      <td>91.0</td>\n",
       "      <td>1.0</td>\n",
       "      <td>67.0</td>\n",
       "      <td>NaN</td>\n",
       "      <td>41</td>\n",
       "    </tr>\n",
       "    <tr>\n",
       "      <th>...</th>\n",
       "      <td>...</td>\n",
       "      <td>...</td>\n",
       "      <td>...</td>\n",
       "      <td>...</td>\n",
       "      <td>...</td>\n",
       "      <td>...</td>\n",
       "      <td>...</td>\n",
       "      <td>...</td>\n",
       "      <td>...</td>\n",
       "      <td>...</td>\n",
       "      <td>...</td>\n",
       "      <td>...</td>\n",
       "      <td>...</td>\n",
       "      <td>...</td>\n",
       "      <td>...</td>\n",
       "      <td>...</td>\n",
       "      <td>...</td>\n",
       "      <td>...</td>\n",
       "    </tr>\n",
       "    <tr>\n",
       "      <th>13214</th>\n",
       "      <td>1/9/2022</td>\n",
       "      <td>2021</td>\n",
       "      <td>18</td>\n",
       "      <td>False</td>\n",
       "      <td>Los Angeles Rams</td>\n",
       "      <td>24</td>\n",
       "      <td>27</td>\n",
       "      <td>San Francisco 49ers</td>\n",
       "      <td>SF</td>\n",
       "      <td>-3.5</td>\n",
       "      <td>46.5</td>\n",
       "      <td>SoFi Stadium</td>\n",
       "      <td>False</td>\n",
       "      <td>72.0</td>\n",
       "      <td>0.0</td>\n",
       "      <td>NaN</td>\n",
       "      <td>DOME</td>\n",
       "      <td>51</td>\n",
       "    </tr>\n",
       "    <tr>\n",
       "      <th>13215</th>\n",
       "      <td>1/9/2022</td>\n",
       "      <td>2021</td>\n",
       "      <td>18</td>\n",
       "      <td>False</td>\n",
       "      <td>Miami Dolphins</td>\n",
       "      <td>33</td>\n",
       "      <td>24</td>\n",
       "      <td>New England Patriots</td>\n",
       "      <td>NE</td>\n",
       "      <td>-6.0</td>\n",
       "      <td>41</td>\n",
       "      <td>Hard Rock Stadium</td>\n",
       "      <td>False</td>\n",
       "      <td>75.0</td>\n",
       "      <td>8.0</td>\n",
       "      <td>79.0</td>\n",
       "      <td>NaN</td>\n",
       "      <td>57</td>\n",
       "    </tr>\n",
       "    <tr>\n",
       "      <th>13216</th>\n",
       "      <td>1/9/2022</td>\n",
       "      <td>2021</td>\n",
       "      <td>18</td>\n",
       "      <td>False</td>\n",
       "      <td>Minnesota Vikings</td>\n",
       "      <td>31</td>\n",
       "      <td>17</td>\n",
       "      <td>Chicago Bears</td>\n",
       "      <td>MIN</td>\n",
       "      <td>-3.5</td>\n",
       "      <td>44.5</td>\n",
       "      <td>U.S. Bank Stadium</td>\n",
       "      <td>False</td>\n",
       "      <td>72.0</td>\n",
       "      <td>0.0</td>\n",
       "      <td>NaN</td>\n",
       "      <td>DOME</td>\n",
       "      <td>48</td>\n",
       "    </tr>\n",
       "    <tr>\n",
       "      <th>13217</th>\n",
       "      <td>1/9/2022</td>\n",
       "      <td>2021</td>\n",
       "      <td>18</td>\n",
       "      <td>False</td>\n",
       "      <td>New York Giants</td>\n",
       "      <td>7</td>\n",
       "      <td>22</td>\n",
       "      <td>Washington Football Team</td>\n",
       "      <td>WAS</td>\n",
       "      <td>-6.0</td>\n",
       "      <td>36</td>\n",
       "      <td>MetLife Stadium</td>\n",
       "      <td>False</td>\n",
       "      <td>38.0</td>\n",
       "      <td>0.0</td>\n",
       "      <td>64.0</td>\n",
       "      <td>NaN</td>\n",
       "      <td>29</td>\n",
       "    </tr>\n",
       "    <tr>\n",
       "      <th>13218</th>\n",
       "      <td>1/9/2022</td>\n",
       "      <td>2021</td>\n",
       "      <td>18</td>\n",
       "      <td>False</td>\n",
       "      <td>Tampa Bay Buccaneers</td>\n",
       "      <td>41</td>\n",
       "      <td>17</td>\n",
       "      <td>Carolina Panthers</td>\n",
       "      <td>TB</td>\n",
       "      <td>-10.5</td>\n",
       "      <td>43.5</td>\n",
       "      <td>Raymond James Stadium</td>\n",
       "      <td>False</td>\n",
       "      <td>80.0</td>\n",
       "      <td>4.0</td>\n",
       "      <td>99.0</td>\n",
       "      <td>NaN</td>\n",
       "      <td>58</td>\n",
       "    </tr>\n",
       "  </tbody>\n",
       "</table>\n",
       "<p>3211 rows × 18 columns</p>\n",
       "</div>"
      ],
      "text/plain": [
       "      schedule_date  schedule_season schedule_week  schedule_playoff  \\\n",
       "10008      9/9/2010             2010             1             False   \n",
       "10009     9/12/2010             2010             1             False   \n",
       "10010     9/12/2010             2010             1             False   \n",
       "10011     9/12/2010             2010             1             False   \n",
       "10012     9/12/2010             2010             1             False   \n",
       "...             ...              ...           ...               ...   \n",
       "13214      1/9/2022             2021            18             False   \n",
       "13215      1/9/2022             2021            18             False   \n",
       "13216      1/9/2022             2021            18             False   \n",
       "13217      1/9/2022             2021            18             False   \n",
       "13218      1/9/2022             2021            18             False   \n",
       "\n",
       "                  team_home  score_home  score_away                 team_away  \\\n",
       "10008    New Orleans Saints          14           9         Minnesota Vikings   \n",
       "10009         Buffalo Bills          10          15            Miami Dolphins   \n",
       "10010         Chicago Bears          19          14             Detroit Lions   \n",
       "10011        Houston Texans          34          24        Indianapolis Colts   \n",
       "10012  Jacksonville Jaguars          24          17            Denver Broncos   \n",
       "...                     ...         ...         ...                       ...   \n",
       "13214      Los Angeles Rams          24          27       San Francisco 49ers   \n",
       "13215        Miami Dolphins          33          24      New England Patriots   \n",
       "13216     Minnesota Vikings          31          17             Chicago Bears   \n",
       "13217       New York Giants           7          22  Washington Football Team   \n",
       "13218  Tampa Bay Buccaneers          41          17         Carolina Panthers   \n",
       "\n",
       "      team_favorite_id  spread_favorite over_under_line  \\\n",
       "10008               NO             -5.0            49.5   \n",
       "10009              MIA             -3.0              39   \n",
       "10010              CHI             -6.5              45   \n",
       "10011              IND             -1.0              48   \n",
       "10012              JAX             -3.0            41.5   \n",
       "...                ...              ...             ...   \n",
       "13214               SF             -3.5            46.5   \n",
       "13215               NE             -6.0              41   \n",
       "13216              MIN             -3.5            44.5   \n",
       "13217              WAS             -6.0              36   \n",
       "13218               TB            -10.5            43.5   \n",
       "\n",
       "                     stadium  stadium_neutral  weather_temperature  \\\n",
       "10008    Louisiana Superdome            False                 72.0   \n",
       "10009   Ralph Wilson Stadium            False                 64.0   \n",
       "10010          Soldier Field            False                 75.0   \n",
       "10011        Reliant Stadium            False                 89.0   \n",
       "10012         EverBank Field            False                 91.0   \n",
       "...                      ...              ...                  ...   \n",
       "13214           SoFi Stadium            False                 72.0   \n",
       "13215      Hard Rock Stadium            False                 75.0   \n",
       "13216      U.S. Bank Stadium            False                 72.0   \n",
       "13217        MetLife Stadium            False                 38.0   \n",
       "13218  Raymond James Stadium            False                 80.0   \n",
       "\n",
       "       weather_wind_mph  weather_humidity    weather_detail  total_pts  \n",
       "10008               0.0               NaN              DOME         23  \n",
       "10009               7.0              81.0               NaN         25  \n",
       "10010               1.0              45.0               NaN         33  \n",
       "10011               5.0               NaN  DOME (Open Roof)         58  \n",
       "10012               1.0              67.0               NaN         41  \n",
       "...                 ...               ...               ...        ...  \n",
       "13214               0.0               NaN              DOME         51  \n",
       "13215               8.0              79.0               NaN         57  \n",
       "13216               0.0               NaN              DOME         48  \n",
       "13217               0.0              64.0               NaN         29  \n",
       "13218               4.0              99.0               NaN         58  \n",
       "\n",
       "[3211 rows x 18 columns]"
      ]
     },
     "execution_count": 7,
     "metadata": {},
     "output_type": "execute_result"
    }
   ],
   "source": [
    "# This allows us to create a new column within the csv that allows us to see the total points score on both sides for each football game.\n",
    "\n",
    "games_2010s[\"total_pts\"] = games_2010s.score_home + games_2010s.score_away\n",
    "\n",
    "# This command is used to double check that the csv now has a total points column.\n",
    "\n",
    "games_2010s"
   ]
  },
  {
   "cell_type": "code",
   "execution_count": 8,
   "id": "0ea77a61",
   "metadata": {
    "execution": {
     "iopub.execute_input": "2022-02-08T21:21:45.531511Z",
     "iopub.status.busy": "2022-02-08T21:21:45.530900Z",
     "iopub.status.idle": "2022-02-08T21:21:45.786513Z",
     "shell.execute_reply": "2022-02-08T21:21:45.785805Z",
     "shell.execute_reply.started": "2022-02-04T18:02:40.375099Z"
    },
    "papermill": {
     "duration": 0.277637,
     "end_time": "2022-02-08T21:21:45.786699",
     "exception": false,
     "start_time": "2022-02-08T21:21:45.509062",
     "status": "completed"
    },
    "tags": []
   },
   "outputs": [
    {
     "data": {
      "text/plain": [
       "<AxesSubplot:xlabel='weather_wind_mph', ylabel='total_pts'>"
      ]
     },
     "execution_count": 8,
     "metadata": {},
     "output_type": "execute_result"
    },
    {
     "data": {
      "image/png": "[encoded data removed]",
      "text/plain": [
       "<Figure size 432x288 with 1 Axes>"
      ]
     },
     "metadata": {
      "needs_background": "light"
     },
     "output_type": "display_data"
    }
   ],
   "source": [
    "# This plot compares the total points variable against the wind speed variable. As we can see from the scatterplot below there seems to be a high \n",
    "# correlation between wind speed and points per game. This scatter plot helps to prove that the lower the wind speed, the more points that are able\n",
    "# to be scored per game.\n",
    "\n",
    "games_2010s.plot(kind = 'scatter', x = 'weather_wind_mph', y = 'total_pts')"
   ]
  },
  {
   "cell_type": "code",
   "execution_count": 9,
   "id": "ac3049d9",
   "metadata": {
    "execution": {
     "iopub.execute_input": "2022-02-08T21:21:45.846263Z",
     "iopub.status.busy": "2022-02-08T21:21:45.845670Z",
     "iopub.status.idle": "2022-02-08T21:21:46.207260Z",
     "shell.execute_reply": "2022-02-08T21:21:46.206702Z",
     "shell.execute_reply.started": "2022-02-04T18:02:40.616918Z"
    },
    "papermill": {
     "duration": 0.392774,
     "end_time": "2022-02-08T21:21:46.207375",
     "exception": false,
     "start_time": "2022-02-08T21:21:45.814601",
     "status": "completed"
    },
    "tags": []
   },
   "outputs": [
    {
     "data": {
      "text/plain": [
       "<AxesSubplot:xlabel='weather_temperature', ylabel='total_pts'>"
      ]
     },
     "execution_count": 9,
     "metadata": {},
     "output_type": "execute_result"
    },
    {
     "data": {
      "image/png": "[encoded data removed]",
      "text/plain": [
       "<Figure size 432x288 with 1 Axes>"
      ]
     },
     "metadata": {
      "needs_background": "light"
     },
     "output_type": "display_data"
    }
   ],
   "source": [
    "# In this plot we see that we can't real make any conclusions out of it as the total pts per game seem to be relative regardless of temperature.\n",
    "# Thus, it is fair to say that temperature doesn't really effect the amount of points that are scored during football games.\n",
    "\n",
    "games_2010s.plot(kind = 'scatter', x = 'weather_temperature', y = 'total_pts')"
   ]
  },
  {
   "cell_type": "code",
   "execution_count": 10,
   "id": "9fa462b0",
   "metadata": {
    "execution": {
     "iopub.execute_input": "2022-02-08T21:21:46.255676Z",
     "iopub.status.busy": "2022-02-08T21:21:46.251054Z",
     "iopub.status.idle": "2022-02-08T21:21:46.447590Z",
     "shell.execute_reply": "2022-02-08T21:21:46.447065Z",
     "shell.execute_reply.started": "2022-02-04T18:02:40.850582Z"
    },
    "papermill": {
     "duration": 0.219962,
     "end_time": "2022-02-08T21:21:46.447705",
     "exception": false,
     "start_time": "2022-02-08T21:21:46.227743",
     "status": "completed"
    },
    "tags": []
   },
   "outputs": [
    {
     "data": {
      "text/plain": [
       "<AxesSubplot:xlabel='weather_humidity', ylabel='total_pts'>"
      ]
     },
     "execution_count": 10,
     "metadata": {},
     "output_type": "execute_result"
    },
    {
     "data": {
      "image/png": "[encoded data removed]",
      "text/plain": [
       "<Figure size 432x288 with 1 Axes>"
      ]
     },
     "metadata": {
      "needs_background": "light"
     },
     "output_type": "display_data"
    }
   ],
   "source": [
    "# Here we see that regardless of the humidity the amount of points scored per game still seems to be a bit scattered. Thus, it may also be fair\n",
    "# to say that humidity doesn't really effect the total points scored during a football game.\n",
    "\n",
    "games_2010s.plot(kind = 'scatter', x = 'weather_humidity', y = 'total_pts')"
   ]
  },
  {
   "cell_type": "code",
   "execution_count": 11,
   "id": "eaf03bde",
   "metadata": {
    "execution": {
     "iopub.execute_input": "2022-02-08T21:21:46.491435Z",
     "iopub.status.busy": "2022-02-08T21:21:46.490844Z",
     "iopub.status.idle": "2022-02-08T21:21:46.559166Z",
     "shell.execute_reply": "2022-02-08T21:21:46.559592Z",
     "shell.execute_reply.started": "2022-02-04T18:02:41.046748Z"
    },
    "papermill": {
     "duration": 0.092175,
     "end_time": "2022-02-08T21:21:46.559733",
     "exception": false,
     "start_time": "2022-02-08T21:21:46.467558",
     "status": "completed"
    },
    "tags": []
   },
   "outputs": [
    {
     "name": "stderr",
     "output_type": "stream",
     "text": [
      "/opt/conda/lib/python3.7/site-packages/ipykernel_launcher.py:16: SettingWithCopyWarning: \n",
      "A value is trying to be set on a copy of a slice from a DataFrame.\n",
      "Try using .loc[row_indexer,col_indexer] = value instead\n",
      "\n",
      "See the caveats in the documentation: https://pandas.pydata.org/pandas-docs/stable/user_guide/indexing.html#returning-a-view-versus-a-copy\n",
      "  app.launch_new_instance()\n"
     ]
    },
    {
     "data": {
      "text/html": [
       "<div>\n",
       "<style scoped>\n",
       "    .dataframe tbody tr th:only-of-type {\n",
       "        vertical-align: middle;\n",
       "    }\n",
       "\n",
       "    .dataframe tbody tr th {\n",
       "        vertical-align: top;\n",
       "    }\n",
       "\n",
       "    .dataframe thead th {\n",
       "        text-align: right;\n",
       "    }\n",
       "</style>\n",
       "<table border=\"1\" class=\"dataframe\">\n",
       "  <thead>\n",
       "    <tr style=\"text-align: right;\">\n",
       "      <th></th>\n",
       "      <th>schedule_date</th>\n",
       "      <th>schedule_season</th>\n",
       "      <th>schedule_week</th>\n",
       "      <th>schedule_playoff</th>\n",
       "      <th>team_home</th>\n",
       "      <th>score_home</th>\n",
       "      <th>score_away</th>\n",
       "      <th>team_away</th>\n",
       "      <th>team_favorite_id</th>\n",
       "      <th>spread_favorite</th>\n",
       "      <th>over_under_line</th>\n",
       "      <th>stadium</th>\n",
       "      <th>stadium_neutral</th>\n",
       "      <th>weather_temperature</th>\n",
       "      <th>weather_wind_mph</th>\n",
       "      <th>weather_humidity</th>\n",
       "      <th>weather_detail</th>\n",
       "      <th>total_pts</th>\n",
       "      <th>indoor_outdoor</th>\n",
       "    </tr>\n",
       "  </thead>\n",
       "  <tbody>\n",
       "    <tr>\n",
       "      <th>10008</th>\n",
       "      <td>9/9/2010</td>\n",
       "      <td>2010</td>\n",
       "      <td>1</td>\n",
       "      <td>False</td>\n",
       "      <td>New Orleans Saints</td>\n",
       "      <td>14</td>\n",
       "      <td>9</td>\n",
       "      <td>Minnesota Vikings</td>\n",
       "      <td>NO</td>\n",
       "      <td>-5.0</td>\n",
       "      <td>49.5</td>\n",
       "      <td>Louisiana Superdome</td>\n",
       "      <td>False</td>\n",
       "      <td>72.0</td>\n",
       "      <td>0.0</td>\n",
       "      <td>NaN</td>\n",
       "      <td>DOME</td>\n",
       "      <td>23</td>\n",
       "      <td>Indoors</td>\n",
       "    </tr>\n",
       "    <tr>\n",
       "      <th>10009</th>\n",
       "      <td>9/12/2010</td>\n",
       "      <td>2010</td>\n",
       "      <td>1</td>\n",
       "      <td>False</td>\n",
       "      <td>Buffalo Bills</td>\n",
       "      <td>10</td>\n",
       "      <td>15</td>\n",
       "      <td>Miami Dolphins</td>\n",
       "      <td>MIA</td>\n",
       "      <td>-3.0</td>\n",
       "      <td>39</td>\n",
       "      <td>Ralph Wilson Stadium</td>\n",
       "      <td>False</td>\n",
       "      <td>64.0</td>\n",
       "      <td>7.0</td>\n",
       "      <td>81.0</td>\n",
       "      <td>NaN</td>\n",
       "      <td>25</td>\n",
       "      <td>Outdoors</td>\n",
       "    </tr>\n",
       "    <tr>\n",
       "      <th>10010</th>\n",
       "      <td>9/12/2010</td>\n",
       "      <td>2010</td>\n",
       "      <td>1</td>\n",
       "      <td>False</td>\n",
       "      <td>Chicago Bears</td>\n",
       "      <td>19</td>\n",
       "      <td>14</td>\n",
       "      <td>Detroit Lions</td>\n",
       "      <td>CHI</td>\n",
       "      <td>-6.5</td>\n",
       "      <td>45</td>\n",
       "      <td>Soldier Field</td>\n",
       "      <td>False</td>\n",
       "      <td>75.0</td>\n",
       "      <td>1.0</td>\n",
       "      <td>45.0</td>\n",
       "      <td>NaN</td>\n",
       "      <td>33</td>\n",
       "      <td>Outdoors</td>\n",
       "    </tr>\n",
       "    <tr>\n",
       "      <th>10011</th>\n",
       "      <td>9/12/2010</td>\n",
       "      <td>2010</td>\n",
       "      <td>1</td>\n",
       "      <td>False</td>\n",
       "      <td>Houston Texans</td>\n",
       "      <td>34</td>\n",
       "      <td>24</td>\n",
       "      <td>Indianapolis Colts</td>\n",
       "      <td>IND</td>\n",
       "      <td>-1.0</td>\n",
       "      <td>48</td>\n",
       "      <td>Reliant Stadium</td>\n",
       "      <td>False</td>\n",
       "      <td>89.0</td>\n",
       "      <td>5.0</td>\n",
       "      <td>NaN</td>\n",
       "      <td>DOME (Open Roof)</td>\n",
       "      <td>58</td>\n",
       "      <td>Outdoors</td>\n",
       "    </tr>\n",
       "    <tr>\n",
       "      <th>10012</th>\n",
       "      <td>9/12/2010</td>\n",
       "      <td>2010</td>\n",
       "      <td>1</td>\n",
       "      <td>False</td>\n",
       "      <td>Jacksonville Jaguars</td>\n",
       "      <td>24</td>\n",
       "      <td>17</td>\n",
       "      <td>Denver Broncos</td>\n",
       "      <td>JAX</td>\n",
       "      <td>-3.0</td>\n",
       "      <td>41.5</td>\n",
       "      <td>EverBank Field</td>\n",
       "      <td>False</td>\n",
       "      <td>91.0</td>\n",
       "      <td>1.0</td>\n",
       "      <td>67.0</td>\n",
       "      <td>NaN</td>\n",
       "      <td>41</td>\n",
       "      <td>Outdoors</td>\n",
       "    </tr>\n",
       "    <tr>\n",
       "      <th>...</th>\n",
       "      <td>...</td>\n",
       "      <td>...</td>\n",
       "      <td>...</td>\n",
       "      <td>...</td>\n",
       "      <td>...</td>\n",
       "      <td>...</td>\n",
       "      <td>...</td>\n",
       "      <td>...</td>\n",
       "      <td>...</td>\n",
       "      <td>...</td>\n",
       "      <td>...</td>\n",
       "      <td>...</td>\n",
       "      <td>...</td>\n",
       "      <td>...</td>\n",
       "      <td>...</td>\n",
       "      <td>...</td>\n",
       "      <td>...</td>\n",
       "      <td>...</td>\n",
       "      <td>...</td>\n",
       "    </tr>\n",
       "    <tr>\n",
       "      <th>13214</th>\n",
       "      <td>1/9/2022</td>\n",
       "      <td>2021</td>\n",
       "      <td>18</td>\n",
       "      <td>False</td>\n",
       "      <td>Los Angeles Rams</td>\n",
       "      <td>24</td>\n",
       "      <td>27</td>\n",
       "      <td>San Francisco 49ers</td>\n",
       "      <td>SF</td>\n",
       "      <td>-3.5</td>\n",
       "      <td>46.5</td>\n",
       "      <td>SoFi Stadium</td>\n",
       "      <td>False</td>\n",
       "      <td>72.0</td>\n",
       "      <td>0.0</td>\n",
       "      <td>NaN</td>\n",
       "      <td>DOME</td>\n",
       "      <td>51</td>\n",
       "      <td>Indoors</td>\n",
       "    </tr>\n",
       "    <tr>\n",
       "      <th>13215</th>\n",
       "      <td>1/9/2022</td>\n",
       "      <td>2021</td>\n",
       "      <td>18</td>\n",
       "      <td>False</td>\n",
       "      <td>Miami Dolphins</td>\n",
       "      <td>33</td>\n",
       "      <td>24</td>\n",
       "      <td>New England Patriots</td>\n",
       "      <td>NE</td>\n",
       "      <td>-6.0</td>\n",
       "      <td>41</td>\n",
       "      <td>Hard Rock Stadium</td>\n",
       "      <td>False</td>\n",
       "      <td>75.0</td>\n",
       "      <td>8.0</td>\n",
       "      <td>79.0</td>\n",
       "      <td>NaN</td>\n",
       "      <td>57</td>\n",
       "      <td>Outdoors</td>\n",
       "    </tr>\n",
       "    <tr>\n",
       "      <th>13216</th>\n",
       "      <td>1/9/2022</td>\n",
       "      <td>2021</td>\n",
       "      <td>18</td>\n",
       "      <td>False</td>\n",
       "      <td>Minnesota Vikings</td>\n",
       "      <td>31</td>\n",
       "      <td>17</td>\n",
       "      <td>Chicago Bears</td>\n",
       "      <td>MIN</td>\n",
       "      <td>-3.5</td>\n",
       "      <td>44.5</td>\n",
       "      <td>U.S. Bank Stadium</td>\n",
       "      <td>False</td>\n",
       "      <td>72.0</td>\n",
       "      <td>0.0</td>\n",
       "      <td>NaN</td>\n",
       "      <td>DOME</td>\n",
       "      <td>48</td>\n",
       "      <td>Indoors</td>\n",
       "    </tr>\n",
       "    <tr>\n",
       "      <th>13217</th>\n",
       "      <td>1/9/2022</td>\n",
       "      <td>2021</td>\n",
       "      <td>18</td>\n",
       "      <td>False</td>\n",
       "      <td>New York Giants</td>\n",
       "      <td>7</td>\n",
       "      <td>22</td>\n",
       "      <td>Washington Football Team</td>\n",
       "      <td>WAS</td>\n",
       "      <td>-6.0</td>\n",
       "      <td>36</td>\n",
       "      <td>MetLife Stadium</td>\n",
       "      <td>False</td>\n",
       "      <td>38.0</td>\n",
       "      <td>0.0</td>\n",
       "      <td>64.0</td>\n",
       "      <td>NaN</td>\n",
       "      <td>29</td>\n",
       "      <td>Outdoors</td>\n",
       "    </tr>\n",
       "    <tr>\n",
       "      <th>13218</th>\n",
       "      <td>1/9/2022</td>\n",
       "      <td>2021</td>\n",
       "      <td>18</td>\n",
       "      <td>False</td>\n",
       "      <td>Tampa Bay Buccaneers</td>\n",
       "      <td>41</td>\n",
       "      <td>17</td>\n",
       "      <td>Carolina Panthers</td>\n",
       "      <td>TB</td>\n",
       "      <td>-10.5</td>\n",
       "      <td>43.5</td>\n",
       "      <td>Raymond James Stadium</td>\n",
       "      <td>False</td>\n",
       "      <td>80.0</td>\n",
       "      <td>4.0</td>\n",
       "      <td>99.0</td>\n",
       "      <td>NaN</td>\n",
       "      <td>58</td>\n",
       "      <td>Outdoors</td>\n",
       "    </tr>\n",
       "  </tbody>\n",
       "</table>\n",
       "<p>3211 rows × 19 columns</p>\n",
       "</div>"
      ],
      "text/plain": [
       "      schedule_date  schedule_season schedule_week  schedule_playoff  \\\n",
       "10008      9/9/2010             2010             1             False   \n",
       "10009     9/12/2010             2010             1             False   \n",
       "10010     9/12/2010             2010             1             False   \n",
       "10011     9/12/2010             2010             1             False   \n",
       "10012     9/12/2010             2010             1             False   \n",
       "...             ...              ...           ...               ...   \n",
       "13214      1/9/2022             2021            18             False   \n",
       "13215      1/9/2022             2021            18             False   \n",
       "13216      1/9/2022             2021            18             False   \n",
       "13217      1/9/2022             2021            18             False   \n",
       "13218      1/9/2022             2021            18             False   \n",
       "\n",
       "                  team_home  score_home  score_away                 team_away  \\\n",
       "10008    New Orleans Saints          14           9         Minnesota Vikings   \n",
       "10009         Buffalo Bills          10          15            Miami Dolphins   \n",
       "10010         Chicago Bears          19          14             Detroit Lions   \n",
       "10011        Houston Texans          34          24        Indianapolis Colts   \n",
       "10012  Jacksonville Jaguars          24          17            Denver Broncos   \n",
       "...                     ...         ...         ...                       ...   \n",
       "13214      Los Angeles Rams          24          27       San Francisco 49ers   \n",
       "13215        Miami Dolphins          33          24      New England Patriots   \n",
       "13216     Minnesota Vikings          31          17             Chicago Bears   \n",
       "13217       New York Giants           7          22  Washington Football Team   \n",
       "13218  Tampa Bay Buccaneers          41          17         Carolina Panthers   \n",
       "\n",
       "      team_favorite_id  spread_favorite over_under_line  \\\n",
       "10008               NO             -5.0            49.5   \n",
       "10009              MIA             -3.0              39   \n",
       "10010              CHI             -6.5              45   \n",
       "10011              IND             -1.0              48   \n",
       "10012              JAX             -3.0            41.5   \n",
       "...                ...              ...             ...   \n",
       "13214               SF             -3.5            46.5   \n",
       "13215               NE             -6.0              41   \n",
       "13216              MIN             -3.5            44.5   \n",
       "13217              WAS             -6.0              36   \n",
       "13218               TB            -10.5            43.5   \n",
       "\n",
       "                     stadium  stadium_neutral  weather_temperature  \\\n",
       "10008    Louisiana Superdome            False                 72.0   \n",
       "10009   Ralph Wilson Stadium            False                 64.0   \n",
       "10010          Soldier Field            False                 75.0   \n",
       "10011        Reliant Stadium            False                 89.0   \n",
       "10012         EverBank Field            False                 91.0   \n",
       "...                      ...              ...                  ...   \n",
       "13214           SoFi Stadium            False                 72.0   \n",
       "13215      Hard Rock Stadium            False                 75.0   \n",
       "13216      U.S. Bank Stadium            False                 72.0   \n",
       "13217        MetLife Stadium            False                 38.0   \n",
       "13218  Raymond James Stadium            False                 80.0   \n",
       "\n",
       "       weather_wind_mph  weather_humidity    weather_detail  total_pts  \\\n",
       "10008               0.0               NaN              DOME         23   \n",
       "10009               7.0              81.0               NaN         25   \n",
       "10010               1.0              45.0               NaN         33   \n",
       "10011               5.0               NaN  DOME (Open Roof)         58   \n",
       "10012               1.0              67.0               NaN         41   \n",
       "...                 ...               ...               ...        ...   \n",
       "13214               0.0               NaN              DOME         51   \n",
       "13215               8.0              79.0               NaN         57   \n",
       "13216               0.0               NaN              DOME         48   \n",
       "13217               0.0              64.0               NaN         29   \n",
       "13218               4.0              99.0               NaN         58   \n",
       "\n",
       "      indoor_outdoor  \n",
       "10008        Indoors  \n",
       "10009       Outdoors  \n",
       "10010       Outdoors  \n",
       "10011       Outdoors  \n",
       "10012       Outdoors  \n",
       "...              ...  \n",
       "13214        Indoors  \n",
       "13215       Outdoors  \n",
       "13216        Indoors  \n",
       "13217       Outdoors  \n",
       "13218       Outdoors  \n",
       "\n",
       "[3211 rows x 19 columns]"
      ]
     },
     "execution_count": 11,
     "metadata": {},
     "output_type": "execute_result"
    }
   ],
   "source": [
    "# In the given scores csv we get a weather detail column which is nice, however, what if we wanted to see the difference in pts in games when just generally \n",
    "# outside vs. inside. Well this function allows us to do so by determining if the game is played within a dome or not. Technically even though the roof is \n",
    "# open I still consider the game played indoors just because at the end of the day it is still being played within a dome.\n",
    "\n",
    "def indoor_outdoor_func(df):\n",
    "    \n",
    "    if df['weather_detail'] == 'DOME':\n",
    "        return 'Indoors'\n",
    "    elif df['weather_detail'] == 'DOME (OPEN ROOF)':\n",
    "        return 'Indoors'\n",
    "    else:\n",
    "        return 'Outdoors'\n",
    "\n",
    "# This line allows us to add a new indoor/outdoor column to our already exisiting csv file.\n",
    "\n",
    "games_2010s['indoor_outdoor'] = games_2010s.apply(indoor_outdoor_func, axis=1)\n",
    "\n",
    "# This command is just to simply check that the new column is outputting in the csv file appropriately.\n",
    "\n",
    "games_2010s"
   ]
  },
  {
   "cell_type": "code",
   "execution_count": 12,
   "id": "d6cb5d1e",
   "metadata": {
    "execution": {
     "iopub.execute_input": "2022-02-08T21:21:46.602960Z",
     "iopub.status.busy": "2022-02-08T21:21:46.602476Z",
     "iopub.status.idle": "2022-02-08T21:21:46.721568Z",
     "shell.execute_reply": "2022-02-08T21:21:46.722085Z",
     "shell.execute_reply.started": "2022-02-04T18:02:41.116654Z"
    },
    "papermill": {
     "duration": 0.142215,
     "end_time": "2022-02-08T21:21:46.722269",
     "exception": false,
     "start_time": "2022-02-08T21:21:46.580054",
     "status": "completed"
    },
    "tags": []
   },
   "outputs": [
    {
     "data": {
      "text/plain": [
       "<AxesSubplot:ylabel='indoor_outdoor'>"
      ]
     },
     "execution_count": 12,
     "metadata": {},
     "output_type": "execute_result"
    },
    {
     "data": {
      "image/png": "[encoded data removed]",
      "text/plain": [
       "<Figure size 432x288 with 1 Axes>"
      ]
     },
     "metadata": {
      "needs_background": "light"
     },
     "output_type": "display_data"
    }
   ],
   "source": [
    "# .barh simply just makes the bar graph horizontal. This graph compares the mean of total pts per game depending\n",
    "# if the game was played indoors or outdoors.\n",
    "\n",
    "games_2010s.groupby('indoor_outdoor').total_pts.mean().plot.barh()"
   ]
  },
  {
   "cell_type": "code",
   "execution_count": 13,
   "id": "a57360d2",
   "metadata": {
    "execution": {
     "iopub.execute_input": "2022-02-08T21:21:46.770738Z",
     "iopub.status.busy": "2022-02-08T21:21:46.770257Z",
     "iopub.status.idle": "2022-02-08T21:21:46.882556Z",
     "shell.execute_reply": "2022-02-08T21:21:46.883054Z",
     "shell.execute_reply.started": "2022-02-04T18:02:41.243543Z"
    },
    "papermill": {
     "duration": 0.135569,
     "end_time": "2022-02-08T21:21:46.883237",
     "exception": false,
     "start_time": "2022-02-08T21:21:46.747668",
     "status": "completed"
    },
    "tags": []
   },
   "outputs": [
    {
     "data": {
      "text/plain": [
       "<AxesSubplot:ylabel='indoor_outdoor'>"
      ]
     },
     "execution_count": 13,
     "metadata": {},
     "output_type": "execute_result"
    },
    {
     "data": {
      "image/png": "[encoded data removed]",
      "text/plain": [
       "<Figure size 432x288 with 1 Axes>"
      ]
     },
     "metadata": {
      "needs_background": "light"
     },
     "output_type": "display_data"
    }
   ],
   "source": [
    "# This graph compares the median of total pts per game depending if the game was played indoors or outdoors.\n",
    "\n",
    "games_2010s.groupby('indoor_outdoor').total_pts.median().plot.barh()"
   ]
  },
  {
   "cell_type": "code",
   "execution_count": 14,
   "id": "3b5c9652",
   "metadata": {
    "execution": {
     "iopub.execute_input": "2022-02-08T21:21:46.937358Z",
     "iopub.status.busy": "2022-02-08T21:21:46.936842Z",
     "iopub.status.idle": "2022-02-08T21:21:47.098323Z",
     "shell.execute_reply": "2022-02-08T21:21:47.098804Z",
     "shell.execute_reply.started": "2022-02-04T18:02:41.365255Z"
    },
    "papermill": {
     "duration": 0.187748,
     "end_time": "2022-02-08T21:21:47.098953",
     "exception": false,
     "start_time": "2022-02-08T21:21:46.911205",
     "status": "completed"
    },
    "tags": []
   },
   "outputs": [
    {
     "data": {
      "text/plain": [
       "<AxesSubplot:ylabel='weather_detail'>"
      ]
     },
     "execution_count": 14,
     "metadata": {},
     "output_type": "execute_result"
    },
    {
     "data": {
      "image/png": "[encoded data removed]",
      "text/plain": [
       "<Figure size 432x288 with 1 Axes>"
      ]
     },
     "metadata": {
      "needs_background": "light"
     },
     "output_type": "display_data"
    }
   ],
   "source": [
    "# This graph compares the mean of total pts per game depending on the type of weather during games.\n",
    "\n",
    "games_2010s.groupby('weather_detail').total_pts.mean().plot.barh()"
   ]
  },
  {
   "cell_type": "code",
   "execution_count": 15,
   "id": "c3b8a01c",
   "metadata": {
    "execution": {
     "iopub.execute_input": "2022-02-08T21:21:47.148202Z",
     "iopub.status.busy": "2022-02-08T21:21:47.147652Z",
     "iopub.status.idle": "2022-02-08T21:21:47.304636Z",
     "shell.execute_reply": "2022-02-08T21:21:47.305039Z",
     "shell.execute_reply.started": "2022-02-04T18:02:41.527616Z"
    },
    "papermill": {
     "duration": 0.182381,
     "end_time": "2022-02-08T21:21:47.305196",
     "exception": false,
     "start_time": "2022-02-08T21:21:47.122815",
     "status": "completed"
    },
    "tags": []
   },
   "outputs": [
    {
     "data": {
      "text/plain": [
       "<AxesSubplot:ylabel='weather_detail'>"
      ]
     },
     "execution_count": 15,
     "metadata": {},
     "output_type": "execute_result"
    },
    {
     "data": {
      "image/png": "[encoded data removed]",
      "text/plain": [
       "<Figure size 432x288 with 1 Axes>"
      ]
     },
     "metadata": {
      "needs_background": "light"
     },
     "output_type": "display_data"
    }
   ],
   "source": [
    "# This graph compares the median of total pts per game depending on the type of weather during games.\n",
    "\n",
    "games_2010s.groupby('weather_detail').total_pts.median().plot.barh()"
   ]
  },
  {
   "cell_type": "markdown",
   "id": "38cad449",
   "metadata": {
    "papermill": {
     "duration": 0.023618,
     "end_time": "2022-02-08T21:21:47.353024",
     "exception": false,
     "start_time": "2022-02-08T21:21:47.329406",
     "status": "completed"
    },
    "tags": []
   },
   "source": [
    "So we pretty much have a good idea of what variables of weather may effect the total points of football games\n",
    "after looking through all these plots."
   ]
  },
  {
   "cell_type": "code",
   "execution_count": 16,
   "id": "db4a75a4",
   "metadata": {
    "execution": {
     "iopub.execute_input": "2022-02-08T21:21:47.403645Z",
     "iopub.status.busy": "2022-02-08T21:21:47.402910Z",
     "iopub.status.idle": "2022-02-08T21:21:47.406762Z",
     "shell.execute_reply": "2022-02-08T21:21:47.407245Z",
     "shell.execute_reply.started": "2022-02-04T18:02:41.68439Z"
    },
    "papermill": {
     "duration": 0.030431,
     "end_time": "2022-02-08T21:21:47.407371",
     "exception": false,
     "start_time": "2022-02-08T21:21:47.376940",
     "status": "completed"
    },
    "tags": []
   },
   "outputs": [],
   "source": [
    "games_2021s = games[ games.schedule_season > 2020 ]"
   ]
  },
  {
   "cell_type": "code",
   "execution_count": 17,
   "id": "af1d0362",
   "metadata": {
    "execution": {
     "iopub.execute_input": "2022-02-08T21:21:47.456728Z",
     "iopub.status.busy": "2022-02-08T21:21:47.456051Z",
     "iopub.status.idle": "2022-02-08T21:21:47.458771Z",
     "shell.execute_reply": "2022-02-08T21:21:47.459259Z",
     "shell.execute_reply.started": "2022-02-04T18:02:41.692698Z"
    },
    "papermill": {
     "duration": 0.028694,
     "end_time": "2022-02-08T21:21:47.459386",
     "exception": false,
     "start_time": "2022-02-08T21:21:47.430692",
     "status": "completed"
    },
    "tags": []
   },
   "outputs": [],
   "source": [
    "#games_2021s"
   ]
  },
  {
   "cell_type": "code",
   "execution_count": 18,
   "id": "cca4bd1a",
   "metadata": {
    "execution": {
     "iopub.execute_input": "2022-02-08T21:21:47.512364Z",
     "iopub.status.busy": "2022-02-08T21:21:47.511754Z",
     "iopub.status.idle": "2022-02-08T21:21:47.515244Z",
     "shell.execute_reply": "2022-02-08T21:21:47.514803Z",
     "shell.execute_reply.started": "2022-02-04T18:02:41.701201Z"
    },
    "papermill": {
     "duration": 0.032421,
     "end_time": "2022-02-08T21:21:47.515350",
     "exception": false,
     "start_time": "2022-02-08T21:21:47.482929",
     "status": "completed"
    },
    "tags": []
   },
   "outputs": [
    {
     "name": "stderr",
     "output_type": "stream",
     "text": [
      "/opt/conda/lib/python3.7/site-packages/ipykernel_launcher.py:1: SettingWithCopyWarning: \n",
      "A value is trying to be set on a copy of a slice from a DataFrame.\n",
      "Try using .loc[row_indexer,col_indexer] = value instead\n",
      "\n",
      "See the caveats in the documentation: https://pandas.pydata.org/pandas-docs/stable/user_guide/indexing.html#returning-a-view-versus-a-copy\n",
      "  \"\"\"Entry point for launching an IPython kernel.\n"
     ]
    }
   ],
   "source": [
    "games_2021s['total_pts'] = games_2021s.score_home + games_2021s.score_away"
   ]
  },
  {
   "cell_type": "code",
   "execution_count": 19,
   "id": "fb866202",
   "metadata": {
    "execution": {
     "iopub.execute_input": "2022-02-08T21:21:47.566994Z",
     "iopub.status.busy": "2022-02-08T21:21:47.566492Z",
     "iopub.status.idle": "2022-02-08T21:21:47.616165Z",
     "shell.execute_reply": "2022-02-08T21:21:47.616606Z",
     "shell.execute_reply.started": "2022-02-04T18:02:41.713032Z"
    },
    "papermill": {
     "duration": 0.077419,
     "end_time": "2022-02-08T21:21:47.616748",
     "exception": false,
     "start_time": "2022-02-08T21:21:47.539329",
     "status": "completed"
    },
    "tags": []
   },
   "outputs": [
    {
     "name": "stderr",
     "output_type": "stream",
     "text": [
      "/opt/conda/lib/python3.7/site-packages/ipykernel_launcher.py:11: SettingWithCopyWarning: \n",
      "A value is trying to be set on a copy of a slice from a DataFrame.\n",
      "Try using .loc[row_indexer,col_indexer] = value instead\n",
      "\n",
      "See the caveats in the documentation: https://pandas.pydata.org/pandas-docs/stable/user_guide/indexing.html#returning-a-view-versus-a-copy\n",
      "  # This is added back by InteractiveShellApp.init_path()\n"
     ]
    },
    {
     "data": {
      "text/html": [
       "<div>\n",
       "<style scoped>\n",
       "    .dataframe tbody tr th:only-of-type {\n",
       "        vertical-align: middle;\n",
       "    }\n",
       "\n",
       "    .dataframe tbody tr th {\n",
       "        vertical-align: top;\n",
       "    }\n",
       "\n",
       "    .dataframe thead th {\n",
       "        text-align: right;\n",
       "    }\n",
       "</style>\n",
       "<table border=\"1\" class=\"dataframe\">\n",
       "  <thead>\n",
       "    <tr style=\"text-align: right;\">\n",
       "      <th></th>\n",
       "      <th>schedule_date</th>\n",
       "      <th>schedule_season</th>\n",
       "      <th>schedule_week</th>\n",
       "      <th>schedule_playoff</th>\n",
       "      <th>team_home</th>\n",
       "      <th>score_home</th>\n",
       "      <th>score_away</th>\n",
       "      <th>team_away</th>\n",
       "      <th>team_favorite_id</th>\n",
       "      <th>spread_favorite</th>\n",
       "      <th>over_under_line</th>\n",
       "      <th>stadium</th>\n",
       "      <th>stadium_neutral</th>\n",
       "      <th>weather_temperature</th>\n",
       "      <th>weather_wind_mph</th>\n",
       "      <th>weather_humidity</th>\n",
       "      <th>weather_detail</th>\n",
       "      <th>total_pts</th>\n",
       "      <th>ohio_teams</th>\n",
       "    </tr>\n",
       "  </thead>\n",
       "  <tbody>\n",
       "    <tr>\n",
       "      <th>12947</th>\n",
       "      <td>9/9/2021</td>\n",
       "      <td>2021</td>\n",
       "      <td>1</td>\n",
       "      <td>False</td>\n",
       "      <td>Tampa Bay Buccaneers</td>\n",
       "      <td>31</td>\n",
       "      <td>29</td>\n",
       "      <td>Dallas Cowboys</td>\n",
       "      <td>TB</td>\n",
       "      <td>-7.5</td>\n",
       "      <td>51.5</td>\n",
       "      <td>Raymond James Stadium</td>\n",
       "      <td>False</td>\n",
       "      <td>NaN</td>\n",
       "      <td>NaN</td>\n",
       "      <td>NaN</td>\n",
       "      <td>NaN</td>\n",
       "      <td>60</td>\n",
       "      <td>NULL</td>\n",
       "    </tr>\n",
       "    <tr>\n",
       "      <th>12948</th>\n",
       "      <td>9/12/2021</td>\n",
       "      <td>2021</td>\n",
       "      <td>1</td>\n",
       "      <td>False</td>\n",
       "      <td>Atlanta Falcons</td>\n",
       "      <td>6</td>\n",
       "      <td>32</td>\n",
       "      <td>Philadelphia Eagles</td>\n",
       "      <td>ATL</td>\n",
       "      <td>-3.5</td>\n",
       "      <td>48</td>\n",
       "      <td>Mercedes-Benz Stadium</td>\n",
       "      <td>False</td>\n",
       "      <td>72.0</td>\n",
       "      <td>0.0</td>\n",
       "      <td>NaN</td>\n",
       "      <td>DOME</td>\n",
       "      <td>38</td>\n",
       "      <td>NULL</td>\n",
       "    </tr>\n",
       "    <tr>\n",
       "      <th>12949</th>\n",
       "      <td>9/12/2021</td>\n",
       "      <td>2021</td>\n",
       "      <td>1</td>\n",
       "      <td>False</td>\n",
       "      <td>Buffalo Bills</td>\n",
       "      <td>16</td>\n",
       "      <td>23</td>\n",
       "      <td>Pittsburgh Steelers</td>\n",
       "      <td>BUF</td>\n",
       "      <td>-6.5</td>\n",
       "      <td>48.5</td>\n",
       "      <td>Highmark Stadium</td>\n",
       "      <td>False</td>\n",
       "      <td>NaN</td>\n",
       "      <td>NaN</td>\n",
       "      <td>NaN</td>\n",
       "      <td>NaN</td>\n",
       "      <td>39</td>\n",
       "      <td>NULL</td>\n",
       "    </tr>\n",
       "    <tr>\n",
       "      <th>12950</th>\n",
       "      <td>9/12/2021</td>\n",
       "      <td>2021</td>\n",
       "      <td>1</td>\n",
       "      <td>False</td>\n",
       "      <td>Carolina Panthers</td>\n",
       "      <td>19</td>\n",
       "      <td>14</td>\n",
       "      <td>New York Jets</td>\n",
       "      <td>CAR</td>\n",
       "      <td>-5.0</td>\n",
       "      <td>44.5</td>\n",
       "      <td>Bank of America Stadium</td>\n",
       "      <td>False</td>\n",
       "      <td>NaN</td>\n",
       "      <td>NaN</td>\n",
       "      <td>NaN</td>\n",
       "      <td>NaN</td>\n",
       "      <td>33</td>\n",
       "      <td>NULL</td>\n",
       "    </tr>\n",
       "    <tr>\n",
       "      <th>12951</th>\n",
       "      <td>9/12/2021</td>\n",
       "      <td>2021</td>\n",
       "      <td>1</td>\n",
       "      <td>False</td>\n",
       "      <td>Cincinnati Bengals</td>\n",
       "      <td>27</td>\n",
       "      <td>24</td>\n",
       "      <td>Minnesota Vikings</td>\n",
       "      <td>MIN</td>\n",
       "      <td>-3.0</td>\n",
       "      <td>48</td>\n",
       "      <td>Paul Brown Stadium</td>\n",
       "      <td>False</td>\n",
       "      <td>NaN</td>\n",
       "      <td>NaN</td>\n",
       "      <td>NaN</td>\n",
       "      <td>NaN</td>\n",
       "      <td>51</td>\n",
       "      <td>Cincinnati Bengals</td>\n",
       "    </tr>\n",
       "    <tr>\n",
       "      <th>...</th>\n",
       "      <td>...</td>\n",
       "      <td>...</td>\n",
       "      <td>...</td>\n",
       "      <td>...</td>\n",
       "      <td>...</td>\n",
       "      <td>...</td>\n",
       "      <td>...</td>\n",
       "      <td>...</td>\n",
       "      <td>...</td>\n",
       "      <td>...</td>\n",
       "      <td>...</td>\n",
       "      <td>...</td>\n",
       "      <td>...</td>\n",
       "      <td>...</td>\n",
       "      <td>...</td>\n",
       "      <td>...</td>\n",
       "      <td>...</td>\n",
       "      <td>...</td>\n",
       "      <td>...</td>\n",
       "    </tr>\n",
       "    <tr>\n",
       "      <th>13214</th>\n",
       "      <td>1/9/2022</td>\n",
       "      <td>2021</td>\n",
       "      <td>18</td>\n",
       "      <td>False</td>\n",
       "      <td>Los Angeles Rams</td>\n",
       "      <td>24</td>\n",
       "      <td>27</td>\n",
       "      <td>San Francisco 49ers</td>\n",
       "      <td>SF</td>\n",
       "      <td>-3.5</td>\n",
       "      <td>46.5</td>\n",
       "      <td>SoFi Stadium</td>\n",
       "      <td>False</td>\n",
       "      <td>72.0</td>\n",
       "      <td>0.0</td>\n",
       "      <td>NaN</td>\n",
       "      <td>DOME</td>\n",
       "      <td>51</td>\n",
       "      <td>NULL</td>\n",
       "    </tr>\n",
       "    <tr>\n",
       "      <th>13215</th>\n",
       "      <td>1/9/2022</td>\n",
       "      <td>2021</td>\n",
       "      <td>18</td>\n",
       "      <td>False</td>\n",
       "      <td>Miami Dolphins</td>\n",
       "      <td>33</td>\n",
       "      <td>24</td>\n",
       "      <td>New England Patriots</td>\n",
       "      <td>NE</td>\n",
       "      <td>-6.0</td>\n",
       "      <td>41</td>\n",
       "      <td>Hard Rock Stadium</td>\n",
       "      <td>False</td>\n",
       "      <td>75.0</td>\n",
       "      <td>8.0</td>\n",
       "      <td>79.0</td>\n",
       "      <td>NaN</td>\n",
       "      <td>57</td>\n",
       "      <td>NULL</td>\n",
       "    </tr>\n",
       "    <tr>\n",
       "      <th>13216</th>\n",
       "      <td>1/9/2022</td>\n",
       "      <td>2021</td>\n",
       "      <td>18</td>\n",
       "      <td>False</td>\n",
       "      <td>Minnesota Vikings</td>\n",
       "      <td>31</td>\n",
       "      <td>17</td>\n",
       "      <td>Chicago Bears</td>\n",
       "      <td>MIN</td>\n",
       "      <td>-3.5</td>\n",
       "      <td>44.5</td>\n",
       "      <td>U.S. Bank Stadium</td>\n",
       "      <td>False</td>\n",
       "      <td>72.0</td>\n",
       "      <td>0.0</td>\n",
       "      <td>NaN</td>\n",
       "      <td>DOME</td>\n",
       "      <td>48</td>\n",
       "      <td>NULL</td>\n",
       "    </tr>\n",
       "    <tr>\n",
       "      <th>13217</th>\n",
       "      <td>1/9/2022</td>\n",
       "      <td>2021</td>\n",
       "      <td>18</td>\n",
       "      <td>False</td>\n",
       "      <td>New York Giants</td>\n",
       "      <td>7</td>\n",
       "      <td>22</td>\n",
       "      <td>Washington Football Team</td>\n",
       "      <td>WAS</td>\n",
       "      <td>-6.0</td>\n",
       "      <td>36</td>\n",
       "      <td>MetLife Stadium</td>\n",
       "      <td>False</td>\n",
       "      <td>38.0</td>\n",
       "      <td>0.0</td>\n",
       "      <td>64.0</td>\n",
       "      <td>NaN</td>\n",
       "      <td>29</td>\n",
       "      <td>NULL</td>\n",
       "    </tr>\n",
       "    <tr>\n",
       "      <th>13218</th>\n",
       "      <td>1/9/2022</td>\n",
       "      <td>2021</td>\n",
       "      <td>18</td>\n",
       "      <td>False</td>\n",
       "      <td>Tampa Bay Buccaneers</td>\n",
       "      <td>41</td>\n",
       "      <td>17</td>\n",
       "      <td>Carolina Panthers</td>\n",
       "      <td>TB</td>\n",
       "      <td>-10.5</td>\n",
       "      <td>43.5</td>\n",
       "      <td>Raymond James Stadium</td>\n",
       "      <td>False</td>\n",
       "      <td>80.0</td>\n",
       "      <td>4.0</td>\n",
       "      <td>99.0</td>\n",
       "      <td>NaN</td>\n",
       "      <td>58</td>\n",
       "      <td>NULL</td>\n",
       "    </tr>\n",
       "  </tbody>\n",
       "</table>\n",
       "<p>272 rows × 19 columns</p>\n",
       "</div>"
      ],
      "text/plain": [
       "      schedule_date  schedule_season schedule_week  schedule_playoff  \\\n",
       "12947      9/9/2021             2021             1             False   \n",
       "12948     9/12/2021             2021             1             False   \n",
       "12949     9/12/2021             2021             1             False   \n",
       "12950     9/12/2021             2021             1             False   \n",
       "12951     9/12/2021             2021             1             False   \n",
       "...             ...              ...           ...               ...   \n",
       "13214      1/9/2022             2021            18             False   \n",
       "13215      1/9/2022             2021            18             False   \n",
       "13216      1/9/2022             2021            18             False   \n",
       "13217      1/9/2022             2021            18             False   \n",
       "13218      1/9/2022             2021            18             False   \n",
       "\n",
       "                  team_home  score_home  score_away                 team_away  \\\n",
       "12947  Tampa Bay Buccaneers          31          29            Dallas Cowboys   \n",
       "12948       Atlanta Falcons           6          32       Philadelphia Eagles   \n",
       "12949         Buffalo Bills          16          23       Pittsburgh Steelers   \n",
       "12950     Carolina Panthers          19          14             New York Jets   \n",
       "12951    Cincinnati Bengals          27          24         Minnesota Vikings   \n",
       "...                     ...         ...         ...                       ...   \n",
       "13214      Los Angeles Rams          24          27       San Francisco 49ers   \n",
       "13215        Miami Dolphins          33          24      New England Patriots   \n",
       "13216     Minnesota Vikings          31          17             Chicago Bears   \n",
       "13217       New York Giants           7          22  Washington Football Team   \n",
       "13218  Tampa Bay Buccaneers          41          17         Carolina Panthers   \n",
       "\n",
       "      team_favorite_id  spread_favorite over_under_line  \\\n",
       "12947               TB             -7.5            51.5   \n",
       "12948              ATL             -3.5              48   \n",
       "12949              BUF             -6.5            48.5   \n",
       "12950              CAR             -5.0            44.5   \n",
       "12951              MIN             -3.0              48   \n",
       "...                ...              ...             ...   \n",
       "13214               SF             -3.5            46.5   \n",
       "13215               NE             -6.0              41   \n",
       "13216              MIN             -3.5            44.5   \n",
       "13217              WAS             -6.0              36   \n",
       "13218               TB            -10.5            43.5   \n",
       "\n",
       "                       stadium  stadium_neutral  weather_temperature  \\\n",
       "12947    Raymond James Stadium            False                  NaN   \n",
       "12948    Mercedes-Benz Stadium            False                 72.0   \n",
       "12949         Highmark Stadium            False                  NaN   \n",
       "12950  Bank of America Stadium            False                  NaN   \n",
       "12951       Paul Brown Stadium            False                  NaN   \n",
       "...                        ...              ...                  ...   \n",
       "13214             SoFi Stadium            False                 72.0   \n",
       "13215        Hard Rock Stadium            False                 75.0   \n",
       "13216        U.S. Bank Stadium            False                 72.0   \n",
       "13217          MetLife Stadium            False                 38.0   \n",
       "13218    Raymond James Stadium            False                 80.0   \n",
       "\n",
       "       weather_wind_mph  weather_humidity weather_detail  total_pts  \\\n",
       "12947               NaN               NaN            NaN         60   \n",
       "12948               0.0               NaN           DOME         38   \n",
       "12949               NaN               NaN            NaN         39   \n",
       "12950               NaN               NaN            NaN         33   \n",
       "12951               NaN               NaN            NaN         51   \n",
       "...                 ...               ...            ...        ...   \n",
       "13214               0.0               NaN           DOME         51   \n",
       "13215               8.0              79.0            NaN         57   \n",
       "13216               0.0               NaN           DOME         48   \n",
       "13217               0.0              64.0            NaN         29   \n",
       "13218               4.0              99.0            NaN         58   \n",
       "\n",
       "               ohio_teams  \n",
       "12947                NULL  \n",
       "12948                NULL  \n",
       "12949                NULL  \n",
       "12950                NULL  \n",
       "12951  Cincinnati Bengals  \n",
       "...                   ...  \n",
       "13214                NULL  \n",
       "13215                NULL  \n",
       "13216                NULL  \n",
       "13217                NULL  \n",
       "13218                NULL  \n",
       "\n",
       "[272 rows x 19 columns]"
      ]
     },
     "execution_count": 19,
     "metadata": {},
     "output_type": "execute_result"
    }
   ],
   "source": [
    "def ohio_teams_func(df1):\n",
    "   # FirstEnergy Stadium   Cle\n",
    "   # Paul Brown Stadium Cin\n",
    "        if df1['stadium'] == 'FirstEnergy Stadium':\n",
    "            return 'Cleveland Browns'\n",
    "        elif df1['stadium'] == 'Paul Brown Stadium':\n",
    "            return 'Cincinnati Bengals'\n",
    "        else:\n",
    "            return 'NULL'\n",
    "\n",
    "games_2021s['ohio_teams'] = games_2021s.apply(ohio_teams_func, axis = 1)\n",
    "\n",
    "games_2021s\n",
    "        "
   ]
  },
  {
   "cell_type": "code",
   "execution_count": 20,
   "id": "9e24b4d1",
   "metadata": {
    "execution": {
     "iopub.execute_input": "2022-02-08T21:21:47.669639Z",
     "iopub.status.busy": "2022-02-08T21:21:47.669144Z",
     "iopub.status.idle": "2022-02-08T21:21:47.787138Z",
     "shell.execute_reply": "2022-02-08T21:21:47.786727Z",
     "shell.execute_reply.started": "2022-02-04T18:02:41.757788Z"
    },
    "papermill": {
     "duration": 0.145198,
     "end_time": "2022-02-08T21:21:47.787284",
     "exception": false,
     "start_time": "2022-02-08T21:21:47.642086",
     "status": "completed"
    },
    "tags": []
   },
   "outputs": [
    {
     "data": {
      "text/plain": [
       "<AxesSubplot:ylabel='ohio_teams'>"
      ]
     },
     "execution_count": 20,
     "metadata": {},
     "output_type": "execute_result"
    },
    {
     "data": {
      "image/png": "[encoded data removed]",
      "text/plain": [
       "<Figure size 432x288 with 1 Axes>"
      ]
     },
     "metadata": {
      "needs_background": "light"
     },
     "output_type": "display_data"
    }
   ],
   "source": [
    "games_2021s.groupby('ohio_teams').score_home.mean().plot.barh()"
   ]
  }
 ],
 "metadata": {
  "kernelspec": {
   "display_name": "Python 3",
   "language": "python",
   "name": "python3"
  },
  "language_info": {
   "codemirror_mode": {
    "name": "ipython",
    "version": 3
   },
   "file_extension": ".py",
   "mimetype": "text/x-python",
   "name": "python",
   "nbconvert_exporter": "python",
   "pygments_lexer": "ipython3",
   "version": "3.7.12"
  },
  "papermill": {
   "default_parameters": {},
   "duration": 10.967568,
   "end_time": "2022-02-08T21:21:48.422092",
   "environment_variables": {},
   "exception": null,
   "input_path": "__notebook__.ipynb",
   "output_path": "__notebook__.ipynb",
   "parameters": {},
   "start_time": "2022-02-08T21:21:37.454524",
   "version": "2.3.3"
  }
 },
 "nbformat": 4,
 "nbformat_minor": 5
}
