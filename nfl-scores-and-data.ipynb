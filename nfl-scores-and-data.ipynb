{
 "cells": [
  {
   "cell_type": "code",
   "execution_count": 1,
   "id": "13999638",
   "metadata": {
    "_cell_guid": "b1076dfc-b9ad-4769-8c92-a6c4dae69d19",
    "_uuid": "8f2839f25d086af736a60e9eeb907d3b93b6e0e5",
    "execution": {
     "iopub.execute_input": "2022-05-02T15:55:28.799571Z",
     "iopub.status.busy": "2022-05-02T15:55:28.796061Z",
     "iopub.status.idle": "2022-05-02T15:55:28.810764Z",
     "shell.execute_reply": "2022-05-02T15:55:28.809438Z",
     "shell.execute_reply.started": "2022-05-02T15:54:50.783091Z"
    },
    "papermill": {
     "duration": 0.04565,
     "end_time": "2022-05-02T15:55:28.811163",
     "exception": false,
     "start_time": "2022-05-02T15:55:28.765513",
     "status": "completed"
    },
    "tags": []
   },
   "outputs": [
    {
     "name": "stdout",
     "output_type": "stream",
     "text": [
      "/kaggle/input/nfl-scores-and-betting-data/nfl_stadiums.csv\n",
      "/kaggle/input/nfl-scores-and-betting-data/nfl_teams.csv\n",
      "/kaggle/input/nfl-scores-and-betting-data/spreadspoke_scores.csv\n",
      "/kaggle/input/nfl-scores-and-betting-data/spreadspoke.R\n"
     ]
    }
   ],
   "source": [
    "# This Python 3 environment comes with many helpful analytics libraries installed\n",
    "# It is defined by the kaggle/python Docker image: https://github.com/kaggle/docker-python\n",
    "# For example, here's several helpful packages to load\n",
    "\n",
    "import numpy as np # linear algebra\n",
    "import pandas as pd # data processing, CSV file I/O (e.g. pd.read_csv)\n",
    "\n",
    "# Input data files are available in the read-only \"../input/\" directory\n",
    "# For example, running this (by clicking run or pressing Shift+Enter) will list all files under the input directory\n",
    "\n",
    "import os\n",
    "for dirname, _, filenames in os.walk('/kaggle/input'):\n",
    "    for filename in filenames:\n",
    "        print(os.path.join(dirname, filename))\n",
    "\n",
    "# You can write up to 20GB to the current directory (/kaggle/working/) that gets preserved as output when you create a version using \"Save & Run All\" \n",
    "# You can also write temporary files to /kaggle/temp/, but they won't be saved outside of the current session"
   ]
  },
  {
   "cell_type": "markdown",
   "id": "d9c0aa12",
   "metadata": {
    "papermill": {
     "duration": 0.021031,
     "end_time": "2022-05-02T15:55:28.855450",
     "exception": false,
     "start_time": "2022-05-02T15:55:28.834419",
     "status": "completed"
    },
    "tags": []
   },
   "source": [
    "Some of the default packages that will be implemented throughout the Python script. The main focus of my particular script will really be just to look at mainly the the pandas package and gain some experience with data processing."
   ]
  },
  {
   "cell_type": "code",
   "execution_count": 2,
   "id": "4f39cc96",
   "metadata": {
    "execution": {
     "iopub.execute_input": "2022-05-02T15:55:28.903861Z",
     "iopub.status.busy": "2022-05-02T15:55:28.903019Z",
     "iopub.status.idle": "2022-05-02T15:55:28.971899Z",
     "shell.execute_reply": "2022-05-02T15:55:28.972545Z",
     "shell.execute_reply.started": "2022-05-02T15:54:50.813180Z"
    },
    "papermill": {
     "duration": 0.095875,
     "end_time": "2022-05-02T15:55:28.972746",
     "exception": false,
     "start_time": "2022-05-02T15:55:28.876871",
     "status": "completed"
    },
    "tags": []
   },
   "outputs": [],
   "source": [
    "# This just reads in the spreadspoke_scores.csv file\n",
    "\n",
    "games = pd.read_csv(\"../input/nfl-scores-and-betting-data/spreadspoke_scores.csv\")"
   ]
  },
  {
   "cell_type": "code",
   "execution_count": 3,
   "id": "74b90314",
   "metadata": {
    "execution": {
     "iopub.execute_input": "2022-05-02T15:55:29.026696Z",
     "iopub.status.busy": "2022-05-02T15:55:29.025719Z",
     "iopub.status.idle": "2022-05-02T15:55:29.052467Z",
     "shell.execute_reply": "2022-05-02T15:55:29.053035Z",
     "shell.execute_reply.started": "2022-05-02T15:54:50.853400Z"
    },
    "papermill": {
     "duration": 0.057949,
     "end_time": "2022-05-02T15:55:29.053240",
     "exception": false,
     "start_time": "2022-05-02T15:55:28.995291",
     "status": "completed"
    },
    "tags": []
   },
   "outputs": [
    {
     "data": {
      "text/html": [
       "<div>\n",
       "<style scoped>\n",
       "    .dataframe tbody tr th:only-of-type {\n",
       "        vertical-align: middle;\n",
       "    }\n",
       "\n",
       "    .dataframe tbody tr th {\n",
       "        vertical-align: top;\n",
       "    }\n",
       "\n",
       "    .dataframe thead th {\n",
       "        text-align: right;\n",
       "    }\n",
       "</style>\n",
       "<table border=\"1\" class=\"dataframe\">\n",
       "  <thead>\n",
       "    <tr style=\"text-align: right;\">\n",
       "      <th></th>\n",
       "      <th>schedule_date</th>\n",
       "      <th>schedule_season</th>\n",
       "      <th>schedule_week</th>\n",
       "      <th>schedule_playoff</th>\n",
       "      <th>team_home</th>\n",
       "      <th>score_home</th>\n",
       "      <th>score_away</th>\n",
       "      <th>team_away</th>\n",
       "      <th>team_favorite_id</th>\n",
       "      <th>spread_favorite</th>\n",
       "      <th>over_under_line</th>\n",
       "      <th>stadium</th>\n",
       "      <th>stadium_neutral</th>\n",
       "      <th>weather_temperature</th>\n",
       "      <th>weather_wind_mph</th>\n",
       "      <th>weather_humidity</th>\n",
       "      <th>weather_detail</th>\n",
       "    </tr>\n",
       "  </thead>\n",
       "  <tbody>\n",
       "    <tr>\n",
       "      <th>0</th>\n",
       "      <td>9/2/1966</td>\n",
       "      <td>1966</td>\n",
       "      <td>1</td>\n",
       "      <td>False</td>\n",
       "      <td>Miami Dolphins</td>\n",
       "      <td>14.0</td>\n",
       "      <td>23.0</td>\n",
       "      <td>Oakland Raiders</td>\n",
       "      <td>NaN</td>\n",
       "      <td>NaN</td>\n",
       "      <td>NaN</td>\n",
       "      <td>Orange Bowl</td>\n",
       "      <td>False</td>\n",
       "      <td>83.0</td>\n",
       "      <td>6.0</td>\n",
       "      <td>71.0</td>\n",
       "      <td>NaN</td>\n",
       "    </tr>\n",
       "    <tr>\n",
       "      <th>1</th>\n",
       "      <td>9/3/1966</td>\n",
       "      <td>1966</td>\n",
       "      <td>1</td>\n",
       "      <td>False</td>\n",
       "      <td>Houston Oilers</td>\n",
       "      <td>45.0</td>\n",
       "      <td>7.0</td>\n",
       "      <td>Denver Broncos</td>\n",
       "      <td>NaN</td>\n",
       "      <td>NaN</td>\n",
       "      <td>NaN</td>\n",
       "      <td>Rice Stadium</td>\n",
       "      <td>False</td>\n",
       "      <td>81.0</td>\n",
       "      <td>7.0</td>\n",
       "      <td>70.0</td>\n",
       "      <td>NaN</td>\n",
       "    </tr>\n",
       "    <tr>\n",
       "      <th>2</th>\n",
       "      <td>9/4/1966</td>\n",
       "      <td>1966</td>\n",
       "      <td>1</td>\n",
       "      <td>False</td>\n",
       "      <td>San Diego Chargers</td>\n",
       "      <td>27.0</td>\n",
       "      <td>7.0</td>\n",
       "      <td>Buffalo Bills</td>\n",
       "      <td>NaN</td>\n",
       "      <td>NaN</td>\n",
       "      <td>NaN</td>\n",
       "      <td>Balboa Stadium</td>\n",
       "      <td>False</td>\n",
       "      <td>70.0</td>\n",
       "      <td>7.0</td>\n",
       "      <td>82.0</td>\n",
       "      <td>NaN</td>\n",
       "    </tr>\n",
       "    <tr>\n",
       "      <th>3</th>\n",
       "      <td>9/9/1966</td>\n",
       "      <td>1966</td>\n",
       "      <td>2</td>\n",
       "      <td>False</td>\n",
       "      <td>Miami Dolphins</td>\n",
       "      <td>14.0</td>\n",
       "      <td>19.0</td>\n",
       "      <td>New York Jets</td>\n",
       "      <td>NaN</td>\n",
       "      <td>NaN</td>\n",
       "      <td>NaN</td>\n",
       "      <td>Orange Bowl</td>\n",
       "      <td>False</td>\n",
       "      <td>82.0</td>\n",
       "      <td>11.0</td>\n",
       "      <td>78.0</td>\n",
       "      <td>NaN</td>\n",
       "    </tr>\n",
       "    <tr>\n",
       "      <th>4</th>\n",
       "      <td>9/10/1966</td>\n",
       "      <td>1966</td>\n",
       "      <td>1</td>\n",
       "      <td>False</td>\n",
       "      <td>Green Bay Packers</td>\n",
       "      <td>24.0</td>\n",
       "      <td>3.0</td>\n",
       "      <td>Baltimore Colts</td>\n",
       "      <td>NaN</td>\n",
       "      <td>NaN</td>\n",
       "      <td>NaN</td>\n",
       "      <td>Lambeau Field</td>\n",
       "      <td>False</td>\n",
       "      <td>64.0</td>\n",
       "      <td>8.0</td>\n",
       "      <td>62.0</td>\n",
       "      <td>NaN</td>\n",
       "    </tr>\n",
       "  </tbody>\n",
       "</table>\n",
       "</div>"
      ],
      "text/plain": [
       "  schedule_date  schedule_season schedule_week  schedule_playoff  \\\n",
       "0      9/2/1966             1966             1             False   \n",
       "1      9/3/1966             1966             1             False   \n",
       "2      9/4/1966             1966             1             False   \n",
       "3      9/9/1966             1966             2             False   \n",
       "4     9/10/1966             1966             1             False   \n",
       "\n",
       "            team_home  score_home  score_away        team_away  \\\n",
       "0      Miami Dolphins        14.0        23.0  Oakland Raiders   \n",
       "1      Houston Oilers        45.0         7.0   Denver Broncos   \n",
       "2  San Diego Chargers        27.0         7.0    Buffalo Bills   \n",
       "3      Miami Dolphins        14.0        19.0    New York Jets   \n",
       "4   Green Bay Packers        24.0         3.0  Baltimore Colts   \n",
       "\n",
       "  team_favorite_id  spread_favorite over_under_line         stadium  \\\n",
       "0              NaN              NaN             NaN     Orange Bowl   \n",
       "1              NaN              NaN             NaN    Rice Stadium   \n",
       "2              NaN              NaN             NaN  Balboa Stadium   \n",
       "3              NaN              NaN             NaN     Orange Bowl   \n",
       "4              NaN              NaN             NaN   Lambeau Field   \n",
       "\n",
       "   stadium_neutral  weather_temperature  weather_wind_mph  weather_humidity  \\\n",
       "0            False                 83.0               6.0              71.0   \n",
       "1            False                 81.0               7.0              70.0   \n",
       "2            False                 70.0               7.0              82.0   \n",
       "3            False                 82.0              11.0              78.0   \n",
       "4            False                 64.0               8.0              62.0   \n",
       "\n",
       "  weather_detail  \n",
       "0            NaN  \n",
       "1            NaN  \n",
       "2            NaN  \n",
       "3            NaN  \n",
       "4            NaN  "
      ]
     },
     "execution_count": 3,
     "metadata": {},
     "output_type": "execute_result"
    }
   ],
   "source": [
    "# This is just a good command to check that the data file has been read in.\n",
    "# All this command does is display the first 5 rows of a file as it has been\n",
    "# initiated with default parameters.\n",
    "\n",
    "games.head()"
   ]
  },
  {
   "cell_type": "code",
   "execution_count": 4,
   "id": "f018aa5f",
   "metadata": {
    "execution": {
     "iopub.execute_input": "2022-05-02T15:55:29.101401Z",
     "iopub.status.busy": "2022-05-02T15:55:29.100646Z",
     "iopub.status.idle": "2022-05-02T15:55:29.133143Z",
     "shell.execute_reply": "2022-05-02T15:55:29.132593Z",
     "shell.execute_reply.started": "2022-05-02T15:54:50.892632Z"
    },
    "papermill": {
     "duration": 0.057807,
     "end_time": "2022-05-02T15:55:29.133321",
     "exception": false,
     "start_time": "2022-05-02T15:55:29.075514",
     "status": "completed"
    },
    "tags": []
   },
   "outputs": [
    {
     "data": {
      "text/html": [
       "<div>\n",
       "<style scoped>\n",
       "    .dataframe tbody tr th:only-of-type {\n",
       "        vertical-align: middle;\n",
       "    }\n",
       "\n",
       "    .dataframe tbody tr th {\n",
       "        vertical-align: top;\n",
       "    }\n",
       "\n",
       "    .dataframe thead th {\n",
       "        text-align: right;\n",
       "    }\n",
       "</style>\n",
       "<table border=\"1\" class=\"dataframe\">\n",
       "  <thead>\n",
       "    <tr style=\"text-align: right;\">\n",
       "      <th></th>\n",
       "      <th>schedule_date</th>\n",
       "      <th>schedule_season</th>\n",
       "      <th>schedule_week</th>\n",
       "      <th>schedule_playoff</th>\n",
       "      <th>team_home</th>\n",
       "      <th>score_home</th>\n",
       "      <th>score_away</th>\n",
       "      <th>team_away</th>\n",
       "      <th>team_favorite_id</th>\n",
       "      <th>spread_favorite</th>\n",
       "      <th>over_under_line</th>\n",
       "      <th>stadium</th>\n",
       "      <th>stadium_neutral</th>\n",
       "      <th>weather_temperature</th>\n",
       "      <th>weather_wind_mph</th>\n",
       "      <th>weather_humidity</th>\n",
       "      <th>weather_detail</th>\n",
       "    </tr>\n",
       "  </thead>\n",
       "  <tbody>\n",
       "    <tr>\n",
       "      <th>10008</th>\n",
       "      <td>9/9/2010</td>\n",
       "      <td>2010</td>\n",
       "      <td>1</td>\n",
       "      <td>False</td>\n",
       "      <td>New Orleans Saints</td>\n",
       "      <td>14.0</td>\n",
       "      <td>9.0</td>\n",
       "      <td>Minnesota Vikings</td>\n",
       "      <td>NO</td>\n",
       "      <td>-5.0</td>\n",
       "      <td>49.5</td>\n",
       "      <td>Louisiana Superdome</td>\n",
       "      <td>False</td>\n",
       "      <td>72.0</td>\n",
       "      <td>0.0</td>\n",
       "      <td>NaN</td>\n",
       "      <td>DOME</td>\n",
       "    </tr>\n",
       "    <tr>\n",
       "      <th>10009</th>\n",
       "      <td>9/12/2010</td>\n",
       "      <td>2010</td>\n",
       "      <td>1</td>\n",
       "      <td>False</td>\n",
       "      <td>Buffalo Bills</td>\n",
       "      <td>10.0</td>\n",
       "      <td>15.0</td>\n",
       "      <td>Miami Dolphins</td>\n",
       "      <td>MIA</td>\n",
       "      <td>-3.0</td>\n",
       "      <td>39</td>\n",
       "      <td>Ralph Wilson Stadium</td>\n",
       "      <td>False</td>\n",
       "      <td>64.0</td>\n",
       "      <td>7.0</td>\n",
       "      <td>81.0</td>\n",
       "      <td>NaN</td>\n",
       "    </tr>\n",
       "    <tr>\n",
       "      <th>10010</th>\n",
       "      <td>9/12/2010</td>\n",
       "      <td>2010</td>\n",
       "      <td>1</td>\n",
       "      <td>False</td>\n",
       "      <td>Chicago Bears</td>\n",
       "      <td>19.0</td>\n",
       "      <td>14.0</td>\n",
       "      <td>Detroit Lions</td>\n",
       "      <td>CHI</td>\n",
       "      <td>-6.5</td>\n",
       "      <td>45</td>\n",
       "      <td>Soldier Field</td>\n",
       "      <td>False</td>\n",
       "      <td>75.0</td>\n",
       "      <td>1.0</td>\n",
       "      <td>45.0</td>\n",
       "      <td>NaN</td>\n",
       "    </tr>\n",
       "    <tr>\n",
       "      <th>10011</th>\n",
       "      <td>9/12/2010</td>\n",
       "      <td>2010</td>\n",
       "      <td>1</td>\n",
       "      <td>False</td>\n",
       "      <td>Houston Texans</td>\n",
       "      <td>34.0</td>\n",
       "      <td>24.0</td>\n",
       "      <td>Indianapolis Colts</td>\n",
       "      <td>IND</td>\n",
       "      <td>-1.0</td>\n",
       "      <td>48</td>\n",
       "      <td>Reliant Stadium</td>\n",
       "      <td>False</td>\n",
       "      <td>89.0</td>\n",
       "      <td>5.0</td>\n",
       "      <td>NaN</td>\n",
       "      <td>DOME (Open Roof)</td>\n",
       "    </tr>\n",
       "    <tr>\n",
       "      <th>10012</th>\n",
       "      <td>9/12/2010</td>\n",
       "      <td>2010</td>\n",
       "      <td>1</td>\n",
       "      <td>False</td>\n",
       "      <td>Jacksonville Jaguars</td>\n",
       "      <td>24.0</td>\n",
       "      <td>17.0</td>\n",
       "      <td>Denver Broncos</td>\n",
       "      <td>JAX</td>\n",
       "      <td>-3.0</td>\n",
       "      <td>41.5</td>\n",
       "      <td>EverBank Field</td>\n",
       "      <td>False</td>\n",
       "      <td>91.0</td>\n",
       "      <td>1.0</td>\n",
       "      <td>67.0</td>\n",
       "      <td>NaN</td>\n",
       "    </tr>\n",
       "  </tbody>\n",
       "</table>\n",
       "</div>"
      ],
      "text/plain": [
       "      schedule_date  schedule_season schedule_week  schedule_playoff  \\\n",
       "10008      9/9/2010             2010             1             False   \n",
       "10009     9/12/2010             2010             1             False   \n",
       "10010     9/12/2010             2010             1             False   \n",
       "10011     9/12/2010             2010             1             False   \n",
       "10012     9/12/2010             2010             1             False   \n",
       "\n",
       "                  team_home  score_home  score_away           team_away  \\\n",
       "10008    New Orleans Saints        14.0         9.0   Minnesota Vikings   \n",
       "10009         Buffalo Bills        10.0        15.0      Miami Dolphins   \n",
       "10010         Chicago Bears        19.0        14.0       Detroit Lions   \n",
       "10011        Houston Texans        34.0        24.0  Indianapolis Colts   \n",
       "10012  Jacksonville Jaguars        24.0        17.0      Denver Broncos   \n",
       "\n",
       "      team_favorite_id  spread_favorite over_under_line               stadium  \\\n",
       "10008               NO             -5.0            49.5   Louisiana Superdome   \n",
       "10009              MIA             -3.0              39  Ralph Wilson Stadium   \n",
       "10010              CHI             -6.5              45         Soldier Field   \n",
       "10011              IND             -1.0              48       Reliant Stadium   \n",
       "10012              JAX             -3.0            41.5        EverBank Field   \n",
       "\n",
       "       stadium_neutral  weather_temperature  weather_wind_mph  \\\n",
       "10008            False                 72.0               0.0   \n",
       "10009            False                 64.0               7.0   \n",
       "10010            False                 75.0               1.0   \n",
       "10011            False                 89.0               5.0   \n",
       "10012            False                 91.0               1.0   \n",
       "\n",
       "       weather_humidity    weather_detail  \n",
       "10008               NaN              DOME  \n",
       "10009              81.0               NaN  \n",
       "10010              45.0               NaN  \n",
       "10011               NaN  DOME (Open Roof)  \n",
       "10012              67.0               NaN  "
      ]
     },
     "execution_count": 4,
     "metadata": {},
     "output_type": "execute_result"
    }
   ],
   "source": [
    "# Here we are essentially using this line to allow us to only work with games that were schedule after 2009.\n",
    "\n",
    "games_2010s = games[ games.schedule_season > 2009]\n",
    "\n",
    "# We use this line just to double check that it is working by printing out the first five lines of the 2010 games.\n",
    "\n",
    "games_2010s.head()"
   ]
  },
  {
   "cell_type": "code",
   "execution_count": 5,
   "id": "3aec1bdb",
   "metadata": {
    "execution": {
     "iopub.execute_input": "2022-05-02T15:55:29.189816Z",
     "iopub.status.busy": "2022-05-02T15:55:29.189076Z",
     "iopub.status.idle": "2022-05-02T15:55:29.194312Z",
     "shell.execute_reply": "2022-05-02T15:55:29.194849Z",
     "shell.execute_reply.started": "2022-05-02T15:54:50.931758Z"
    },
    "papermill": {
     "duration": 0.038456,
     "end_time": "2022-05-02T15:55:29.195070",
     "exception": false,
     "start_time": "2022-05-02T15:55:29.156614",
     "status": "completed"
    },
    "tags": []
   },
   "outputs": [
    {
     "data": {
      "text/plain": [
       "weather_detail\n",
       "DOME                    806\n",
       "DOME (Open Roof)         56\n",
       "Fog                      25\n",
       "Rain                    101\n",
       "Rain | Fog               18\n",
       "Snow                     13\n",
       "Snow | Fog                5\n",
       "Snow | Freezing Rain      1\n",
       "dtype: int64"
      ]
     },
     "execution_count": 5,
     "metadata": {},
     "output_type": "execute_result"
    }
   ],
   "source": [
    "# This command outputs the number of games played in each weather detail. Useful as the goal of this project is to determine how weather effects football games.\n",
    "# So it is a useful command to just give us a preview of the type of data set that we will be working with.\n",
    "\n",
    "games_2010s.groupby('weather_detail').size()"
   ]
  },
  {
   "cell_type": "code",
   "execution_count": 6,
   "id": "2edff8e4",
   "metadata": {
    "execution": {
     "iopub.execute_input": "2022-05-02T15:55:29.247185Z",
     "iopub.status.busy": "2022-05-02T15:55:29.246270Z",
     "iopub.status.idle": "2022-05-02T15:55:29.574052Z",
     "shell.execute_reply": "2022-05-02T15:55:29.574594Z",
     "shell.execute_reply.started": "2022-05-02T15:54:50.960032Z"
    },
    "papermill": {
     "duration": 0.356378,
     "end_time": "2022-05-02T15:55:29.574787",
     "exception": false,
     "start_time": "2022-05-02T15:55:29.218409",
     "status": "completed"
    },
    "tags": []
   },
   "outputs": [
    {
     "data": {
      "text/plain": [
       "<AxesSubplot:xlabel='score_away', ylabel='score_home'>"
      ]
     },
     "execution_count": 6,
     "metadata": {},
     "output_type": "execute_result"
    },
    {
     "data": {
      "image/png": "[encoded data removed]",
      "text/plain": [
       "<Figure size 432x288 with 1 Axes>"
      ]
     },
     "metadata": {
      "needs_background": "light"
     },
     "output_type": "display_data"
    }
   ],
   "source": [
    "# This is just some starter code syntax for building scatterplots in the pandas environment.\n",
    "\n",
    "games_2010s.plot(kind = 'scatter', x = 'score_away', y = 'score_home')"
   ]
  },
  {
   "cell_type": "markdown",
   "id": "f07554dd",
   "metadata": {
    "papermill": {
     "duration": 0.025009,
     "end_time": "2022-05-02T15:55:29.625042",
     "exception": false,
     "start_time": "2022-05-02T15:55:29.600033",
     "status": "completed"
    },
    "tags": []
   },
   "source": [
    "This is the default code to allow us to create a scatter plot with the pandas package in Python. It also lets us know the csv is working as it is supposed to."
   ]
  },
  {
   "cell_type": "code",
   "execution_count": 7,
   "id": "fed5c225",
   "metadata": {
    "execution": {
     "iopub.execute_input": "2022-05-02T15:55:29.683542Z",
     "iopub.status.busy": "2022-05-02T15:55:29.682756Z",
     "iopub.status.idle": "2022-05-02T15:55:29.725637Z",
     "shell.execute_reply": "2022-05-02T15:55:29.726200Z",
     "shell.execute_reply.started": "2022-05-02T15:54:51.190589Z"
    },
    "papermill": {
     "duration": 0.075096,
     "end_time": "2022-05-02T15:55:29.726427",
     "exception": false,
     "start_time": "2022-05-02T15:55:29.651331",
     "status": "completed"
    },
    "tags": []
   },
   "outputs": [
    {
     "name": "stderr",
     "output_type": "stream",
     "text": [
      "/opt/conda/lib/python3.7/site-packages/ipykernel_launcher.py:3: SettingWithCopyWarning: \n",
      "A value is trying to be set on a copy of a slice from a DataFrame.\n",
      "Try using .loc[row_indexer,col_indexer] = value instead\n",
      "\n",
      "See the caveats in the documentation: https://pandas.pydata.org/pandas-docs/stable/user_guide/indexing.html#returning-a-view-versus-a-copy\n",
      "  This is separate from the ipykernel package so we can avoid doing imports until\n"
     ]
    },
    {
     "data": {
      "text/html": [
       "<div>\n",
       "<style scoped>\n",
       "    .dataframe tbody tr th:only-of-type {\n",
       "        vertical-align: middle;\n",
       "    }\n",
       "\n",
       "    .dataframe tbody tr th {\n",
       "        vertical-align: top;\n",
       "    }\n",
       "\n",
       "    .dataframe thead th {\n",
       "        text-align: right;\n",
       "    }\n",
       "</style>\n",
       "<table border=\"1\" class=\"dataframe\">\n",
       "  <thead>\n",
       "    <tr style=\"text-align: right;\">\n",
       "      <th></th>\n",
       "      <th>schedule_date</th>\n",
       "      <th>schedule_season</th>\n",
       "      <th>schedule_week</th>\n",
       "      <th>schedule_playoff</th>\n",
       "      <th>team_home</th>\n",
       "      <th>score_home</th>\n",
       "      <th>score_away</th>\n",
       "      <th>team_away</th>\n",
       "      <th>team_favorite_id</th>\n",
       "      <th>spread_favorite</th>\n",
       "      <th>over_under_line</th>\n",
       "      <th>stadium</th>\n",
       "      <th>stadium_neutral</th>\n",
       "      <th>weather_temperature</th>\n",
       "      <th>weather_wind_mph</th>\n",
       "      <th>weather_humidity</th>\n",
       "      <th>weather_detail</th>\n",
       "      <th>total_pts</th>\n",
       "    </tr>\n",
       "  </thead>\n",
       "  <tbody>\n",
       "    <tr>\n",
       "      <th>10008</th>\n",
       "      <td>9/9/2010</td>\n",
       "      <td>2010</td>\n",
       "      <td>1</td>\n",
       "      <td>False</td>\n",
       "      <td>New Orleans Saints</td>\n",
       "      <td>14.0</td>\n",
       "      <td>9.0</td>\n",
       "      <td>Minnesota Vikings</td>\n",
       "      <td>NO</td>\n",
       "      <td>-5.0</td>\n",
       "      <td>49.5</td>\n",
       "      <td>Louisiana Superdome</td>\n",
       "      <td>False</td>\n",
       "      <td>72.0</td>\n",
       "      <td>0.0</td>\n",
       "      <td>NaN</td>\n",
       "      <td>DOME</td>\n",
       "      <td>23.0</td>\n",
       "    </tr>\n",
       "    <tr>\n",
       "      <th>10009</th>\n",
       "      <td>9/12/2010</td>\n",
       "      <td>2010</td>\n",
       "      <td>1</td>\n",
       "      <td>False</td>\n",
       "      <td>Buffalo Bills</td>\n",
       "      <td>10.0</td>\n",
       "      <td>15.0</td>\n",
       "      <td>Miami Dolphins</td>\n",
       "      <td>MIA</td>\n",
       "      <td>-3.0</td>\n",
       "      <td>39</td>\n",
       "      <td>Ralph Wilson Stadium</td>\n",
       "      <td>False</td>\n",
       "      <td>64.0</td>\n",
       "      <td>7.0</td>\n",
       "      <td>81.0</td>\n",
       "      <td>NaN</td>\n",
       "      <td>25.0</td>\n",
       "    </tr>\n",
       "    <tr>\n",
       "      <th>10010</th>\n",
       "      <td>9/12/2010</td>\n",
       "      <td>2010</td>\n",
       "      <td>1</td>\n",
       "      <td>False</td>\n",
       "      <td>Chicago Bears</td>\n",
       "      <td>19.0</td>\n",
       "      <td>14.0</td>\n",
       "      <td>Detroit Lions</td>\n",
       "      <td>CHI</td>\n",
       "      <td>-6.5</td>\n",
       "      <td>45</td>\n",
       "      <td>Soldier Field</td>\n",
       "      <td>False</td>\n",
       "      <td>75.0</td>\n",
       "      <td>1.0</td>\n",
       "      <td>45.0</td>\n",
       "      <td>NaN</td>\n",
       "      <td>33.0</td>\n",
       "    </tr>\n",
       "    <tr>\n",
       "      <th>10011</th>\n",
       "      <td>9/12/2010</td>\n",
       "      <td>2010</td>\n",
       "      <td>1</td>\n",
       "      <td>False</td>\n",
       "      <td>Houston Texans</td>\n",
       "      <td>34.0</td>\n",
       "      <td>24.0</td>\n",
       "      <td>Indianapolis Colts</td>\n",
       "      <td>IND</td>\n",
       "      <td>-1.0</td>\n",
       "      <td>48</td>\n",
       "      <td>Reliant Stadium</td>\n",
       "      <td>False</td>\n",
       "      <td>89.0</td>\n",
       "      <td>5.0</td>\n",
       "      <td>NaN</td>\n",
       "      <td>DOME (Open Roof)</td>\n",
       "      <td>58.0</td>\n",
       "    </tr>\n",
       "    <tr>\n",
       "      <th>10012</th>\n",
       "      <td>9/12/2010</td>\n",
       "      <td>2010</td>\n",
       "      <td>1</td>\n",
       "      <td>False</td>\n",
       "      <td>Jacksonville Jaguars</td>\n",
       "      <td>24.0</td>\n",
       "      <td>17.0</td>\n",
       "      <td>Denver Broncos</td>\n",
       "      <td>JAX</td>\n",
       "      <td>-3.0</td>\n",
       "      <td>41.5</td>\n",
       "      <td>EverBank Field</td>\n",
       "      <td>False</td>\n",
       "      <td>91.0</td>\n",
       "      <td>1.0</td>\n",
       "      <td>67.0</td>\n",
       "      <td>NaN</td>\n",
       "      <td>41.0</td>\n",
       "    </tr>\n",
       "    <tr>\n",
       "      <th>...</th>\n",
       "      <td>...</td>\n",
       "      <td>...</td>\n",
       "      <td>...</td>\n",
       "      <td>...</td>\n",
       "      <td>...</td>\n",
       "      <td>...</td>\n",
       "      <td>...</td>\n",
       "      <td>...</td>\n",
       "      <td>...</td>\n",
       "      <td>...</td>\n",
       "      <td>...</td>\n",
       "      <td>...</td>\n",
       "      <td>...</td>\n",
       "      <td>...</td>\n",
       "      <td>...</td>\n",
       "      <td>...</td>\n",
       "      <td>...</td>\n",
       "      <td>...</td>\n",
       "    </tr>\n",
       "    <tr>\n",
       "      <th>13227</th>\n",
       "      <td>1/23/2022</td>\n",
       "      <td>2021</td>\n",
       "      <td>Division</td>\n",
       "      <td>True</td>\n",
       "      <td>Kansas City Chiefs</td>\n",
       "      <td>42.0</td>\n",
       "      <td>36.0</td>\n",
       "      <td>Buffalo Bills</td>\n",
       "      <td>KC</td>\n",
       "      <td>-2.5</td>\n",
       "      <td>54.0</td>\n",
       "      <td>Arrowhead Stadium</td>\n",
       "      <td>False</td>\n",
       "      <td>35.0</td>\n",
       "      <td>6.0</td>\n",
       "      <td>54.0</td>\n",
       "      <td>NaN</td>\n",
       "      <td>78.0</td>\n",
       "    </tr>\n",
       "    <tr>\n",
       "      <th>13228</th>\n",
       "      <td>1/23/2022</td>\n",
       "      <td>2021</td>\n",
       "      <td>Division</td>\n",
       "      <td>True</td>\n",
       "      <td>Tampa Bay Buccaneers</td>\n",
       "      <td>27.0</td>\n",
       "      <td>30.0</td>\n",
       "      <td>Los Angeles Rams</td>\n",
       "      <td>TB</td>\n",
       "      <td>-3.0</td>\n",
       "      <td>48.0</td>\n",
       "      <td>Raymond James Stadium</td>\n",
       "      <td>False</td>\n",
       "      <td>50.0</td>\n",
       "      <td>11.0</td>\n",
       "      <td>69.0</td>\n",
       "      <td>NaN</td>\n",
       "      <td>57.0</td>\n",
       "    </tr>\n",
       "    <tr>\n",
       "      <th>13229</th>\n",
       "      <td>1/30/2022</td>\n",
       "      <td>2021</td>\n",
       "      <td>Conference</td>\n",
       "      <td>True</td>\n",
       "      <td>Kansas City Chiefs</td>\n",
       "      <td>24.0</td>\n",
       "      <td>27.0</td>\n",
       "      <td>Cincinnati Bengals</td>\n",
       "      <td>KC</td>\n",
       "      <td>-7.0</td>\n",
       "      <td>54.5</td>\n",
       "      <td>Arrowhead Stadium</td>\n",
       "      <td>False</td>\n",
       "      <td>41.0</td>\n",
       "      <td>4.0</td>\n",
       "      <td>41.0</td>\n",
       "      <td>NaN</td>\n",
       "      <td>51.0</td>\n",
       "    </tr>\n",
       "    <tr>\n",
       "      <th>13230</th>\n",
       "      <td>1/30/2022</td>\n",
       "      <td>2021</td>\n",
       "      <td>Conference</td>\n",
       "      <td>True</td>\n",
       "      <td>Los Angeles Rams</td>\n",
       "      <td>20.0</td>\n",
       "      <td>17.0</td>\n",
       "      <td>San Francisco 49ers</td>\n",
       "      <td>LAR</td>\n",
       "      <td>-3.5</td>\n",
       "      <td>46.0</td>\n",
       "      <td>SoFi Stadium</td>\n",
       "      <td>False</td>\n",
       "      <td>72.0</td>\n",
       "      <td>0.0</td>\n",
       "      <td>NaN</td>\n",
       "      <td>DOME</td>\n",
       "      <td>37.0</td>\n",
       "    </tr>\n",
       "    <tr>\n",
       "      <th>13231</th>\n",
       "      <td>2/13/2022</td>\n",
       "      <td>2021</td>\n",
       "      <td>Superbowl</td>\n",
       "      <td>True</td>\n",
       "      <td>Los Angeles Rams</td>\n",
       "      <td>NaN</td>\n",
       "      <td>NaN</td>\n",
       "      <td>Cincinnati Bengals</td>\n",
       "      <td>LAR</td>\n",
       "      <td>-4.0</td>\n",
       "      <td>48.5</td>\n",
       "      <td>SoFi Stadium</td>\n",
       "      <td>True</td>\n",
       "      <td>72.0</td>\n",
       "      <td>0.0</td>\n",
       "      <td>NaN</td>\n",
       "      <td>DOME</td>\n",
       "      <td>NaN</td>\n",
       "    </tr>\n",
       "  </tbody>\n",
       "</table>\n",
       "<p>3224 rows × 18 columns</p>\n",
       "</div>"
      ],
      "text/plain": [
       "      schedule_date  schedule_season schedule_week  schedule_playoff  \\\n",
       "10008      9/9/2010             2010             1             False   \n",
       "10009     9/12/2010             2010             1             False   \n",
       "10010     9/12/2010             2010             1             False   \n",
       "10011     9/12/2010             2010             1             False   \n",
       "10012     9/12/2010             2010             1             False   \n",
       "...             ...              ...           ...               ...   \n",
       "13227     1/23/2022             2021      Division              True   \n",
       "13228     1/23/2022             2021      Division              True   \n",
       "13229     1/30/2022             2021    Conference              True   \n",
       "13230     1/30/2022             2021    Conference              True   \n",
       "13231     2/13/2022             2021     Superbowl              True   \n",
       "\n",
       "                  team_home  score_home  score_away            team_away  \\\n",
       "10008    New Orleans Saints        14.0         9.0    Minnesota Vikings   \n",
       "10009         Buffalo Bills        10.0        15.0       Miami Dolphins   \n",
       "10010         Chicago Bears        19.0        14.0        Detroit Lions   \n",
       "10011        Houston Texans        34.0        24.0   Indianapolis Colts   \n",
       "10012  Jacksonville Jaguars        24.0        17.0       Denver Broncos   \n",
       "...                     ...         ...         ...                  ...   \n",
       "13227    Kansas City Chiefs        42.0        36.0        Buffalo Bills   \n",
       "13228  Tampa Bay Buccaneers        27.0        30.0     Los Angeles Rams   \n",
       "13229    Kansas City Chiefs        24.0        27.0   Cincinnati Bengals   \n",
       "13230      Los Angeles Rams        20.0        17.0  San Francisco 49ers   \n",
       "13231      Los Angeles Rams         NaN         NaN   Cincinnati Bengals   \n",
       "\n",
       "      team_favorite_id  spread_favorite over_under_line  \\\n",
       "10008               NO             -5.0            49.5   \n",
       "10009              MIA             -3.0              39   \n",
       "10010              CHI             -6.5              45   \n",
       "10011              IND             -1.0              48   \n",
       "10012              JAX             -3.0            41.5   \n",
       "...                ...              ...             ...   \n",
       "13227               KC             -2.5            54.0   \n",
       "13228               TB             -3.0            48.0   \n",
       "13229               KC             -7.0            54.5   \n",
       "13230              LAR             -3.5            46.0   \n",
       "13231              LAR             -4.0            48.5   \n",
       "\n",
       "                     stadium  stadium_neutral  weather_temperature  \\\n",
       "10008    Louisiana Superdome            False                 72.0   \n",
       "10009   Ralph Wilson Stadium            False                 64.0   \n",
       "10010          Soldier Field            False                 75.0   \n",
       "10011        Reliant Stadium            False                 89.0   \n",
       "10012         EverBank Field            False                 91.0   \n",
       "...                      ...              ...                  ...   \n",
       "13227      Arrowhead Stadium            False                 35.0   \n",
       "13228  Raymond James Stadium            False                 50.0   \n",
       "13229      Arrowhead Stadium            False                 41.0   \n",
       "13230           SoFi Stadium            False                 72.0   \n",
       "13231           SoFi Stadium             True                 72.0   \n",
       "\n",
       "       weather_wind_mph  weather_humidity    weather_detail  total_pts  \n",
       "10008               0.0               NaN              DOME       23.0  \n",
       "10009               7.0              81.0               NaN       25.0  \n",
       "10010               1.0              45.0               NaN       33.0  \n",
       "10011               5.0               NaN  DOME (Open Roof)       58.0  \n",
       "10012               1.0              67.0               NaN       41.0  \n",
       "...                 ...               ...               ...        ...  \n",
       "13227               6.0              54.0               NaN       78.0  \n",
       "13228              11.0              69.0               NaN       57.0  \n",
       "13229               4.0              41.0               NaN       51.0  \n",
       "13230               0.0               NaN              DOME       37.0  \n",
       "13231               0.0               NaN              DOME        NaN  \n",
       "\n",
       "[3224 rows x 18 columns]"
      ]
     },
     "execution_count": 7,
     "metadata": {},
     "output_type": "execute_result"
    }
   ],
   "source": [
    "# This allows us to create a new column within the csv that allows us to see the total points score on both sides for each football game.\n",
    "\n",
    "games_2010s[\"total_pts\"] = games_2010s.score_home + games_2010s.score_away\n",
    "\n",
    "# This command is used to double check that the csv now has a total points column.\n",
    "\n",
    "games_2010s"
   ]
  },
  {
   "cell_type": "code",
   "execution_count": 8,
   "id": "aadfb111",
   "metadata": {
    "execution": {
     "iopub.execute_input": "2022-05-02T15:55:29.787869Z",
     "iopub.status.busy": "2022-05-02T15:55:29.786751Z",
     "iopub.status.idle": "2022-05-02T15:55:30.182202Z",
     "shell.execute_reply": "2022-05-02T15:55:30.182958Z",
     "shell.execute_reply.started": "2022-05-02T15:54:51.229479Z"
    },
    "papermill": {
     "duration": 0.428731,
     "end_time": "2022-05-02T15:55:30.183170",
     "exception": false,
     "start_time": "2022-05-02T15:55:29.754439",
     "status": "completed"
    },
    "tags": []
   },
   "outputs": [
    {
     "data": {
      "text/plain": [
       "<AxesSubplot:xlabel='weather_wind_mph', ylabel='total_pts'>"
      ]
     },
     "execution_count": 8,
     "metadata": {},
     "output_type": "execute_result"
    },
    {
     "data": {
      "image/png": "[encoded data removed]",
      "text/plain": [
       "<Figure size 432x288 with 1 Axes>"
      ]
     },
     "metadata": {
      "needs_background": "light"
     },
     "output_type": "display_data"
    }
   ],
   "source": [
    "# This plot compares the total points variable against the wind speed variable. As we can see from the scatterplot below there seems to be a high \n",
    "# correlation between wind speed and points per game. This scatter plot helps to prove that the lower the wind speed, the more points that are able\n",
    "# to be scored per game.\n",
    "\n",
    "games_2010s.plot(kind = 'scatter', x = 'weather_wind_mph', y = 'total_pts')"
   ]
  },
  {
   "cell_type": "markdown",
   "id": "0624ef9b",
   "metadata": {
    "papermill": {
     "duration": 0.028603,
     "end_time": "2022-05-02T15:55:30.241579",
     "exception": false,
     "start_time": "2022-05-02T15:55:30.212976",
     "status": "completed"
    },
    "tags": []
   },
   "source": [
    "The analysis we were able to obtain from this plot is that there is a relationship between wind speed and total points scored in a football game. Also that we can draw the conclusion that as the wind speed gets stronger that less points are scored in a football game. This follows a strong correlation."
   ]
  },
  {
   "cell_type": "code",
   "execution_count": 9,
   "id": "1191941b",
   "metadata": {
    "execution": {
     "iopub.execute_input": "2022-05-02T15:55:30.301794Z",
     "iopub.status.busy": "2022-05-02T15:55:30.301058Z",
     "iopub.status.idle": "2022-05-02T15:55:30.562764Z",
     "shell.execute_reply": "2022-05-02T15:55:30.563448Z",
     "shell.execute_reply.started": "2022-05-02T15:54:51.454010Z"
    },
    "papermill": {
     "duration": 0.293816,
     "end_time": "2022-05-02T15:55:30.563640",
     "exception": false,
     "start_time": "2022-05-02T15:55:30.269824",
     "status": "completed"
    },
    "tags": []
   },
   "outputs": [
    {
     "data": {
      "text/plain": [
       "<AxesSubplot:xlabel='weather_temperature', ylabel='total_pts'>"
      ]
     },
     "execution_count": 9,
     "metadata": {},
     "output_type": "execute_result"
    },
    {
     "data": {
      "image/png": "[encoded data removed]",
      "text/plain": [
       "<Figure size 432x288 with 1 Axes>"
      ]
     },
     "metadata": {
      "needs_background": "light"
     },
     "output_type": "display_data"
    }
   ],
   "source": [
    "# In this plot we see that we can't real make any conclusions out of it as the total pts per game seem to be relative regardless of temperature.\n",
    "# Thus, it is fair to say that temperature doesn't really effect the amount of points that are scored during football games.\n",
    "\n",
    "games_2010s.plot(kind = 'scatter', x = 'weather_temperature', y = 'total_pts')"
   ]
  },
  {
   "cell_type": "markdown",
   "id": "c121ba2a",
   "metadata": {
    "papermill": {
     "duration": 0.029298,
     "end_time": "2022-05-02T15:55:30.623939",
     "exception": false,
     "start_time": "2022-05-02T15:55:30.594641",
     "status": "completed"
    },
    "tags": []
   },
   "source": [
    "Here we see that total points scored in a football game and temperature has no correlation."
   ]
  },
  {
   "cell_type": "code",
   "execution_count": 10,
   "id": "8399d145",
   "metadata": {
    "execution": {
     "iopub.execute_input": "2022-05-02T15:55:30.688452Z",
     "iopub.status.busy": "2022-05-02T15:55:30.687673Z",
     "iopub.status.idle": "2022-05-02T15:55:30.963809Z",
     "shell.execute_reply": "2022-05-02T15:55:30.964508Z",
     "shell.execute_reply.started": "2022-05-02T15:54:51.667288Z"
    },
    "papermill": {
     "duration": 0.309739,
     "end_time": "2022-05-02T15:55:30.964703",
     "exception": false,
     "start_time": "2022-05-02T15:55:30.654964",
     "status": "completed"
    },
    "tags": []
   },
   "outputs": [
    {
     "data": {
      "text/plain": [
       "<AxesSubplot:xlabel='weather_humidity', ylabel='total_pts'>"
      ]
     },
     "execution_count": 10,
     "metadata": {},
     "output_type": "execute_result"
    },
    {
     "data": {
      "image/png": "[encoded data removed]",
      "text/plain": [
       "<Figure size 432x288 with 1 Axes>"
      ]
     },
     "metadata": {
      "needs_background": "light"
     },
     "output_type": "display_data"
    }
   ],
   "source": [
    "# Here we see that regardless of the humidity the amount of points scored per game still seems to be a bit scattered. Thus, it may also be fair\n",
    "# to say that humidity doesn't really effect the total points scored during a football game.\n",
    "\n",
    "games_2010s.plot(kind = 'scatter', x = 'weather_humidity', y = 'total_pts')"
   ]
  },
  {
   "cell_type": "markdown",
   "id": "7d733df5",
   "metadata": {
    "papermill": {
     "duration": 0.03077,
     "end_time": "2022-05-02T15:55:31.026908",
     "exception": false,
     "start_time": "2022-05-02T15:55:30.996138",
     "status": "completed"
    },
    "tags": []
   },
   "source": [
    "Here we see that total points scored in a football game and humidity have no correlation."
   ]
  },
  {
   "cell_type": "code",
   "execution_count": 11,
   "id": "886d3e39",
   "metadata": {
    "execution": {
     "iopub.execute_input": "2022-05-02T15:55:31.091914Z",
     "iopub.status.busy": "2022-05-02T15:55:31.091237Z",
     "iopub.status.idle": "2022-05-02T15:55:31.200885Z",
     "shell.execute_reply": "2022-05-02T15:55:31.201479Z",
     "shell.execute_reply.started": "2022-05-02T15:54:51.893422Z"
    },
    "papermill": {
     "duration": 0.143999,
     "end_time": "2022-05-02T15:55:31.201671",
     "exception": false,
     "start_time": "2022-05-02T15:55:31.057672",
     "status": "completed"
    },
    "tags": []
   },
   "outputs": [
    {
     "name": "stderr",
     "output_type": "stream",
     "text": [
      "/opt/conda/lib/python3.7/site-packages/ipykernel_launcher.py:16: SettingWithCopyWarning: \n",
      "A value is trying to be set on a copy of a slice from a DataFrame.\n",
      "Try using .loc[row_indexer,col_indexer] = value instead\n",
      "\n",
      "See the caveats in the documentation: https://pandas.pydata.org/pandas-docs/stable/user_guide/indexing.html#returning-a-view-versus-a-copy\n",
      "  app.launch_new_instance()\n"
     ]
    },
    {
     "data": {
      "text/html": [
       "<div>\n",
       "<style scoped>\n",
       "    .dataframe tbody tr th:only-of-type {\n",
       "        vertical-align: middle;\n",
       "    }\n",
       "\n",
       "    .dataframe tbody tr th {\n",
       "        vertical-align: top;\n",
       "    }\n",
       "\n",
       "    .dataframe thead th {\n",
       "        text-align: right;\n",
       "    }\n",
       "</style>\n",
       "<table border=\"1\" class=\"dataframe\">\n",
       "  <thead>\n",
       "    <tr style=\"text-align: right;\">\n",
       "      <th></th>\n",
       "      <th>schedule_date</th>\n",
       "      <th>schedule_season</th>\n",
       "      <th>schedule_week</th>\n",
       "      <th>schedule_playoff</th>\n",
       "      <th>team_home</th>\n",
       "      <th>score_home</th>\n",
       "      <th>score_away</th>\n",
       "      <th>team_away</th>\n",
       "      <th>team_favorite_id</th>\n",
       "      <th>spread_favorite</th>\n",
       "      <th>over_under_line</th>\n",
       "      <th>stadium</th>\n",
       "      <th>stadium_neutral</th>\n",
       "      <th>weather_temperature</th>\n",
       "      <th>weather_wind_mph</th>\n",
       "      <th>weather_humidity</th>\n",
       "      <th>weather_detail</th>\n",
       "      <th>total_pts</th>\n",
       "      <th>indoor_outdoor</th>\n",
       "    </tr>\n",
       "  </thead>\n",
       "  <tbody>\n",
       "    <tr>\n",
       "      <th>10008</th>\n",
       "      <td>9/9/2010</td>\n",
       "      <td>2010</td>\n",
       "      <td>1</td>\n",
       "      <td>False</td>\n",
       "      <td>New Orleans Saints</td>\n",
       "      <td>14.0</td>\n",
       "      <td>9.0</td>\n",
       "      <td>Minnesota Vikings</td>\n",
       "      <td>NO</td>\n",
       "      <td>-5.0</td>\n",
       "      <td>49.5</td>\n",
       "      <td>Louisiana Superdome</td>\n",
       "      <td>False</td>\n",
       "      <td>72.0</td>\n",
       "      <td>0.0</td>\n",
       "      <td>NaN</td>\n",
       "      <td>DOME</td>\n",
       "      <td>23.0</td>\n",
       "      <td>Indoors</td>\n",
       "    </tr>\n",
       "    <tr>\n",
       "      <th>10009</th>\n",
       "      <td>9/12/2010</td>\n",
       "      <td>2010</td>\n",
       "      <td>1</td>\n",
       "      <td>False</td>\n",
       "      <td>Buffalo Bills</td>\n",
       "      <td>10.0</td>\n",
       "      <td>15.0</td>\n",
       "      <td>Miami Dolphins</td>\n",
       "      <td>MIA</td>\n",
       "      <td>-3.0</td>\n",
       "      <td>39</td>\n",
       "      <td>Ralph Wilson Stadium</td>\n",
       "      <td>False</td>\n",
       "      <td>64.0</td>\n",
       "      <td>7.0</td>\n",
       "      <td>81.0</td>\n",
       "      <td>NaN</td>\n",
       "      <td>25.0</td>\n",
       "      <td>Outdoors</td>\n",
       "    </tr>\n",
       "    <tr>\n",
       "      <th>10010</th>\n",
       "      <td>9/12/2010</td>\n",
       "      <td>2010</td>\n",
       "      <td>1</td>\n",
       "      <td>False</td>\n",
       "      <td>Chicago Bears</td>\n",
       "      <td>19.0</td>\n",
       "      <td>14.0</td>\n",
       "      <td>Detroit Lions</td>\n",
       "      <td>CHI</td>\n",
       "      <td>-6.5</td>\n",
       "      <td>45</td>\n",
       "      <td>Soldier Field</td>\n",
       "      <td>False</td>\n",
       "      <td>75.0</td>\n",
       "      <td>1.0</td>\n",
       "      <td>45.0</td>\n",
       "      <td>NaN</td>\n",
       "      <td>33.0</td>\n",
       "      <td>Outdoors</td>\n",
       "    </tr>\n",
       "    <tr>\n",
       "      <th>10011</th>\n",
       "      <td>9/12/2010</td>\n",
       "      <td>2010</td>\n",
       "      <td>1</td>\n",
       "      <td>False</td>\n",
       "      <td>Houston Texans</td>\n",
       "      <td>34.0</td>\n",
       "      <td>24.0</td>\n",
       "      <td>Indianapolis Colts</td>\n",
       "      <td>IND</td>\n",
       "      <td>-1.0</td>\n",
       "      <td>48</td>\n",
       "      <td>Reliant Stadium</td>\n",
       "      <td>False</td>\n",
       "      <td>89.0</td>\n",
       "      <td>5.0</td>\n",
       "      <td>NaN</td>\n",
       "      <td>DOME (Open Roof)</td>\n",
       "      <td>58.0</td>\n",
       "      <td>Outdoors</td>\n",
       "    </tr>\n",
       "    <tr>\n",
       "      <th>10012</th>\n",
       "      <td>9/12/2010</td>\n",
       "      <td>2010</td>\n",
       "      <td>1</td>\n",
       "      <td>False</td>\n",
       "      <td>Jacksonville Jaguars</td>\n",
       "      <td>24.0</td>\n",
       "      <td>17.0</td>\n",
       "      <td>Denver Broncos</td>\n",
       "      <td>JAX</td>\n",
       "      <td>-3.0</td>\n",
       "      <td>41.5</td>\n",
       "      <td>EverBank Field</td>\n",
       "      <td>False</td>\n",
       "      <td>91.0</td>\n",
       "      <td>1.0</td>\n",
       "      <td>67.0</td>\n",
       "      <td>NaN</td>\n",
       "      <td>41.0</td>\n",
       "      <td>Outdoors</td>\n",
       "    </tr>\n",
       "    <tr>\n",
       "      <th>...</th>\n",
       "      <td>...</td>\n",
       "      <td>...</td>\n",
       "      <td>...</td>\n",
       "      <td>...</td>\n",
       "      <td>...</td>\n",
       "      <td>...</td>\n",
       "      <td>...</td>\n",
       "      <td>...</td>\n",
       "      <td>...</td>\n",
       "      <td>...</td>\n",
       "      <td>...</td>\n",
       "      <td>...</td>\n",
       "      <td>...</td>\n",
       "      <td>...</td>\n",
       "      <td>...</td>\n",
       "      <td>...</td>\n",
       "      <td>...</td>\n",
       "      <td>...</td>\n",
       "      <td>...</td>\n",
       "    </tr>\n",
       "    <tr>\n",
       "      <th>13227</th>\n",
       "      <td>1/23/2022</td>\n",
       "      <td>2021</td>\n",
       "      <td>Division</td>\n",
       "      <td>True</td>\n",
       "      <td>Kansas City Chiefs</td>\n",
       "      <td>42.0</td>\n",
       "      <td>36.0</td>\n",
       "      <td>Buffalo Bills</td>\n",
       "      <td>KC</td>\n",
       "      <td>-2.5</td>\n",
       "      <td>54.0</td>\n",
       "      <td>Arrowhead Stadium</td>\n",
       "      <td>False</td>\n",
       "      <td>35.0</td>\n",
       "      <td>6.0</td>\n",
       "      <td>54.0</td>\n",
       "      <td>NaN</td>\n",
       "      <td>78.0</td>\n",
       "      <td>Outdoors</td>\n",
       "    </tr>\n",
       "    <tr>\n",
       "      <th>13228</th>\n",
       "      <td>1/23/2022</td>\n",
       "      <td>2021</td>\n",
       "      <td>Division</td>\n",
       "      <td>True</td>\n",
       "      <td>Tampa Bay Buccaneers</td>\n",
       "      <td>27.0</td>\n",
       "      <td>30.0</td>\n",
       "      <td>Los Angeles Rams</td>\n",
       "      <td>TB</td>\n",
       "      <td>-3.0</td>\n",
       "      <td>48.0</td>\n",
       "      <td>Raymond James Stadium</td>\n",
       "      <td>False</td>\n",
       "      <td>50.0</td>\n",
       "      <td>11.0</td>\n",
       "      <td>69.0</td>\n",
       "      <td>NaN</td>\n",
       "      <td>57.0</td>\n",
       "      <td>Outdoors</td>\n",
       "    </tr>\n",
       "    <tr>\n",
       "      <th>13229</th>\n",
       "      <td>1/30/2022</td>\n",
       "      <td>2021</td>\n",
       "      <td>Conference</td>\n",
       "      <td>True</td>\n",
       "      <td>Kansas City Chiefs</td>\n",
       "      <td>24.0</td>\n",
       "      <td>27.0</td>\n",
       "      <td>Cincinnati Bengals</td>\n",
       "      <td>KC</td>\n",
       "      <td>-7.0</td>\n",
       "      <td>54.5</td>\n",
       "      <td>Arrowhead Stadium</td>\n",
       "      <td>False</td>\n",
       "      <td>41.0</td>\n",
       "      <td>4.0</td>\n",
       "      <td>41.0</td>\n",
       "      <td>NaN</td>\n",
       "      <td>51.0</td>\n",
       "      <td>Outdoors</td>\n",
       "    </tr>\n",
       "    <tr>\n",
       "      <th>13230</th>\n",
       "      <td>1/30/2022</td>\n",
       "      <td>2021</td>\n",
       "      <td>Conference</td>\n",
       "      <td>True</td>\n",
       "      <td>Los Angeles Rams</td>\n",
       "      <td>20.0</td>\n",
       "      <td>17.0</td>\n",
       "      <td>San Francisco 49ers</td>\n",
       "      <td>LAR</td>\n",
       "      <td>-3.5</td>\n",
       "      <td>46.0</td>\n",
       "      <td>SoFi Stadium</td>\n",
       "      <td>False</td>\n",
       "      <td>72.0</td>\n",
       "      <td>0.0</td>\n",
       "      <td>NaN</td>\n",
       "      <td>DOME</td>\n",
       "      <td>37.0</td>\n",
       "      <td>Indoors</td>\n",
       "    </tr>\n",
       "    <tr>\n",
       "      <th>13231</th>\n",
       "      <td>2/13/2022</td>\n",
       "      <td>2021</td>\n",
       "      <td>Superbowl</td>\n",
       "      <td>True</td>\n",
       "      <td>Los Angeles Rams</td>\n",
       "      <td>NaN</td>\n",
       "      <td>NaN</td>\n",
       "      <td>Cincinnati Bengals</td>\n",
       "      <td>LAR</td>\n",
       "      <td>-4.0</td>\n",
       "      <td>48.5</td>\n",
       "      <td>SoFi Stadium</td>\n",
       "      <td>True</td>\n",
       "      <td>72.0</td>\n",
       "      <td>0.0</td>\n",
       "      <td>NaN</td>\n",
       "      <td>DOME</td>\n",
       "      <td>NaN</td>\n",
       "      <td>Indoors</td>\n",
       "    </tr>\n",
       "  </tbody>\n",
       "</table>\n",
       "<p>3224 rows × 19 columns</p>\n",
       "</div>"
      ],
      "text/plain": [
       "      schedule_date  schedule_season schedule_week  schedule_playoff  \\\n",
       "10008      9/9/2010             2010             1             False   \n",
       "10009     9/12/2010             2010             1             False   \n",
       "10010     9/12/2010             2010             1             False   \n",
       "10011     9/12/2010             2010             1             False   \n",
       "10012     9/12/2010             2010             1             False   \n",
       "...             ...              ...           ...               ...   \n",
       "13227     1/23/2022             2021      Division              True   \n",
       "13228     1/23/2022             2021      Division              True   \n",
       "13229     1/30/2022             2021    Conference              True   \n",
       "13230     1/30/2022             2021    Conference              True   \n",
       "13231     2/13/2022             2021     Superbowl              True   \n",
       "\n",
       "                  team_home  score_home  score_away            team_away  \\\n",
       "10008    New Orleans Saints        14.0         9.0    Minnesota Vikings   \n",
       "10009         Buffalo Bills        10.0        15.0       Miami Dolphins   \n",
       "10010         Chicago Bears        19.0        14.0        Detroit Lions   \n",
       "10011        Houston Texans        34.0        24.0   Indianapolis Colts   \n",
       "10012  Jacksonville Jaguars        24.0        17.0       Denver Broncos   \n",
       "...                     ...         ...         ...                  ...   \n",
       "13227    Kansas City Chiefs        42.0        36.0        Buffalo Bills   \n",
       "13228  Tampa Bay Buccaneers        27.0        30.0     Los Angeles Rams   \n",
       "13229    Kansas City Chiefs        24.0        27.0   Cincinnati Bengals   \n",
       "13230      Los Angeles Rams        20.0        17.0  San Francisco 49ers   \n",
       "13231      Los Angeles Rams         NaN         NaN   Cincinnati Bengals   \n",
       "\n",
       "      team_favorite_id  spread_favorite over_under_line  \\\n",
       "10008               NO             -5.0            49.5   \n",
       "10009              MIA             -3.0              39   \n",
       "10010              CHI             -6.5              45   \n",
       "10011              IND             -1.0              48   \n",
       "10012              JAX             -3.0            41.5   \n",
       "...                ...              ...             ...   \n",
       "13227               KC             -2.5            54.0   \n",
       "13228               TB             -3.0            48.0   \n",
       "13229               KC             -7.0            54.5   \n",
       "13230              LAR             -3.5            46.0   \n",
       "13231              LAR             -4.0            48.5   \n",
       "\n",
       "                     stadium  stadium_neutral  weather_temperature  \\\n",
       "10008    Louisiana Superdome            False                 72.0   \n",
       "10009   Ralph Wilson Stadium            False                 64.0   \n",
       "10010          Soldier Field            False                 75.0   \n",
       "10011        Reliant Stadium            False                 89.0   \n",
       "10012         EverBank Field            False                 91.0   \n",
       "...                      ...              ...                  ...   \n",
       "13227      Arrowhead Stadium            False                 35.0   \n",
       "13228  Raymond James Stadium            False                 50.0   \n",
       "13229      Arrowhead Stadium            False                 41.0   \n",
       "13230           SoFi Stadium            False                 72.0   \n",
       "13231           SoFi Stadium             True                 72.0   \n",
       "\n",
       "       weather_wind_mph  weather_humidity    weather_detail  total_pts  \\\n",
       "10008               0.0               NaN              DOME       23.0   \n",
       "10009               7.0              81.0               NaN       25.0   \n",
       "10010               1.0              45.0               NaN       33.0   \n",
       "10011               5.0               NaN  DOME (Open Roof)       58.0   \n",
       "10012               1.0              67.0               NaN       41.0   \n",
       "...                 ...               ...               ...        ...   \n",
       "13227               6.0              54.0               NaN       78.0   \n",
       "13228              11.0              69.0               NaN       57.0   \n",
       "13229               4.0              41.0               NaN       51.0   \n",
       "13230               0.0               NaN              DOME       37.0   \n",
       "13231               0.0               NaN              DOME        NaN   \n",
       "\n",
       "      indoor_outdoor  \n",
       "10008        Indoors  \n",
       "10009       Outdoors  \n",
       "10010       Outdoors  \n",
       "10011       Outdoors  \n",
       "10012       Outdoors  \n",
       "...              ...  \n",
       "13227       Outdoors  \n",
       "13228       Outdoors  \n",
       "13229       Outdoors  \n",
       "13230        Indoors  \n",
       "13231        Indoors  \n",
       "\n",
       "[3224 rows x 19 columns]"
      ]
     },
     "execution_count": 11,
     "metadata": {},
     "output_type": "execute_result"
    }
   ],
   "source": [
    "# In the given scores csv we get a weather detail column which is nice, however, what if we wanted to see the difference in pts in games when just generally \n",
    "# outside vs. inside. Well this function allows us to do so by determining if the game is played within a dome or not. Technically even though the roof is \n",
    "# open I still consider the game played indoors just because at the end of the day it is still being played within a dome.\n",
    "\n",
    "def indoor_outdoor_func(df):\n",
    "    \n",
    "    if df['weather_detail'] == 'DOME':\n",
    "        return 'Indoors'\n",
    "    elif df['weather_detail'] == 'DOME (OPEN ROOF)':\n",
    "        return 'Indoors'\n",
    "    else:\n",
    "        return 'Outdoors'\n",
    "\n",
    "# This line allows us to add a new indoor/outdoor column to our already exisiting csv file.\n",
    "\n",
    "games_2010s['indoor_outdoor'] = games_2010s.apply(indoor_outdoor_func, axis=1)\n",
    "\n",
    "# This command is just to simply check that the new column is outputting in the csv file appropriately.\n",
    "\n",
    "games_2010s"
   ]
  },
  {
   "cell_type": "code",
   "execution_count": 12,
   "id": "f180c786",
   "metadata": {
    "execution": {
     "iopub.execute_input": "2022-05-02T15:55:31.272740Z",
     "iopub.status.busy": "2022-05-02T15:55:31.271650Z",
     "iopub.status.idle": "2022-05-02T15:55:31.482270Z",
     "shell.execute_reply": "2022-05-02T15:55:31.481341Z",
     "shell.execute_reply.started": "2022-05-02T15:54:51.967055Z"
    },
    "papermill": {
     "duration": 0.247076,
     "end_time": "2022-05-02T15:55:31.482429",
     "exception": false,
     "start_time": "2022-05-02T15:55:31.235353",
     "status": "completed"
    },
    "tags": []
   },
   "outputs": [
    {
     "data": {
      "text/plain": [
       "<AxesSubplot:ylabel='indoor_outdoor'>"
      ]
     },
     "execution_count": 12,
     "metadata": {},
     "output_type": "execute_result"
    },
    {
     "data": {
      "image/png": "[encoded data removed]",
      "text/plain": [
       "<Figure size 432x288 with 1 Axes>"
      ]
     },
     "metadata": {
      "needs_background": "light"
     },
     "output_type": "display_data"
    }
   ],
   "source": [
    "# .barh simply just makes the bar graph horizontal. This graph compares the mean of total pts per game depending\n",
    "# if the game was played indoors or outdoors.\n",
    "\n",
    "games_2010s.groupby('indoor_outdoor').total_pts.mean().plot.barh()"
   ]
  },
  {
   "cell_type": "markdown",
   "id": "29150b70",
   "metadata": {
    "papermill": {
     "duration": 0.033427,
     "end_time": "2022-05-02T15:55:31.548932",
     "exception": false,
     "start_time": "2022-05-02T15:55:31.515505",
     "status": "completed"
    },
    "tags": []
   },
   "source": [
    "We see that it is possible to draw a conclusion that more points are typically scored during indoor games versus outdoor games due to large sample size of the data set we are working with."
   ]
  },
  {
   "cell_type": "code",
   "execution_count": 13,
   "id": "86eff624",
   "metadata": {
    "execution": {
     "iopub.execute_input": "2022-05-02T15:55:31.619605Z",
     "iopub.status.busy": "2022-05-02T15:55:31.618867Z",
     "iopub.status.idle": "2022-05-02T15:55:31.814865Z",
     "shell.execute_reply": "2022-05-02T15:55:31.815476Z",
     "shell.execute_reply.started": "2022-05-02T15:54:52.140468Z"
    },
    "papermill": {
     "duration": 0.233303,
     "end_time": "2022-05-02T15:55:31.815672",
     "exception": false,
     "start_time": "2022-05-02T15:55:31.582369",
     "status": "completed"
    },
    "tags": []
   },
   "outputs": [
    {
     "data": {
      "text/plain": [
       "<AxesSubplot:ylabel='indoor_outdoor'>"
      ]
     },
     "execution_count": 13,
     "metadata": {},
     "output_type": "execute_result"
    },
    {
     "data": {
      "image/png": "[encoded data removed]",
      "text/plain": [
       "<Figure size 432x288 with 1 Axes>"
      ]
     },
     "metadata": {
      "needs_background": "light"
     },
     "output_type": "display_data"
    }
   ],
   "source": [
    "# This graph compares the median of total pts per game depending if the game was played indoors or outdoors.\n",
    "\n",
    "games_2010s.groupby('indoor_outdoor').total_pts.median().plot.barh()"
   ]
  },
  {
   "cell_type": "markdown",
   "id": "6302cd34",
   "metadata": {
    "papermill": {
     "duration": 0.034521,
     "end_time": "2022-05-02T15:55:31.887066",
     "exception": false,
     "start_time": "2022-05-02T15:55:31.852545",
     "status": "completed"
    },
    "tags": []
   },
   "source": [
    "The median bar plot being consistent with the mean bar plot further supports that conclusion."
   ]
  },
  {
   "cell_type": "code",
   "execution_count": 14,
   "id": "0af5b54b",
   "metadata": {
    "execution": {
     "iopub.execute_input": "2022-05-02T15:55:31.960887Z",
     "iopub.status.busy": "2022-05-02T15:55:31.960091Z",
     "iopub.status.idle": "2022-05-02T15:55:32.226529Z",
     "shell.execute_reply": "2022-05-02T15:55:32.227084Z",
     "shell.execute_reply.started": "2022-05-02T15:54:52.306030Z"
    },
    "papermill": {
     "duration": 0.305034,
     "end_time": "2022-05-02T15:55:32.227290",
     "exception": false,
     "start_time": "2022-05-02T15:55:31.922256",
     "status": "completed"
    },
    "tags": []
   },
   "outputs": [
    {
     "data": {
      "text/plain": [
       "<AxesSubplot:ylabel='weather_detail'>"
      ]
     },
     "execution_count": 14,
     "metadata": {},
     "output_type": "execute_result"
    },
    {
     "data": {
      "image/png": "[encoded data removed]",
      "text/plain": [
       "<Figure size 432x288 with 1 Axes>"
      ]
     },
     "metadata": {
      "needs_background": "light"
     },
     "output_type": "display_data"
    }
   ],
   "source": [
    "# This graph compares the mean of total pts per game depending on the type of weather during games.\n",
    "\n",
    "games_2010s.groupby('weather_detail').total_pts.mean().plot.barh()"
   ]
  },
  {
   "cell_type": "code",
   "execution_count": 15,
   "id": "8c6b244f",
   "metadata": {
    "execution": {
     "iopub.execute_input": "2022-05-02T15:55:32.303943Z",
     "iopub.status.busy": "2022-05-02T15:55:32.303266Z",
     "iopub.status.idle": "2022-05-02T15:55:32.559468Z",
     "shell.execute_reply": "2022-05-02T15:55:32.558780Z",
     "shell.execute_reply.started": "2022-05-02T15:54:52.528436Z"
    },
    "papermill": {
     "duration": 0.297145,
     "end_time": "2022-05-02T15:55:32.559624",
     "exception": false,
     "start_time": "2022-05-02T15:55:32.262479",
     "status": "completed"
    },
    "tags": []
   },
   "outputs": [
    {
     "data": {
      "text/plain": [
       "<AxesSubplot:ylabel='weather_detail'>"
      ]
     },
     "execution_count": 15,
     "metadata": {},
     "output_type": "execute_result"
    },
    {
     "data": {
      "image/png": "[encoded data removed]",
      "text/plain": [
       "<Figure size 432x288 with 1 Axes>"
      ]
     },
     "metadata": {
      "needs_background": "light"
     },
     "output_type": "display_data"
    }
   ],
   "source": [
    "# This graph compares the median of total pts per game depending on the type of weather during games.\n",
    "\n",
    "games_2010s.groupby('weather_detail').total_pts.median().plot.barh()"
   ]
  },
  {
   "cell_type": "code",
   "execution_count": 16,
   "id": "3f0bcb37",
   "metadata": {
    "execution": {
     "iopub.execute_input": "2022-05-02T15:55:32.640028Z",
     "iopub.status.busy": "2022-05-02T15:55:32.638874Z",
     "iopub.status.idle": "2022-05-02T15:55:32.645280Z",
     "shell.execute_reply": "2022-05-02T15:55:32.645784Z",
     "shell.execute_reply.started": "2022-05-02T15:54:52.742548Z"
    },
    "papermill": {
     "duration": 0.05007,
     "end_time": "2022-05-02T15:55:32.645993",
     "exception": false,
     "start_time": "2022-05-02T15:55:32.595923",
     "status": "completed"
    },
    "tags": []
   },
   "outputs": [
    {
     "data": {
      "text/plain": [
       "weather_detail\n",
       "DOME                    806\n",
       "DOME (Open Roof)         56\n",
       "Fog                      25\n",
       "Rain                    101\n",
       "Rain | Fog               18\n",
       "Snow                     13\n",
       "Snow | Fog                5\n",
       "Snow | Freezing Rain      1\n",
       "dtype: int64"
      ]
     },
     "execution_count": 16,
     "metadata": {},
     "output_type": "execute_result"
    }
   ],
   "source": [
    "games_2010s.groupby('weather_detail').size()"
   ]
  },
  {
   "cell_type": "markdown",
   "id": "446cb8b1",
   "metadata": {
    "papermill": {
     "duration": 0.036194,
     "end_time": "2022-05-02T15:55:32.719395",
     "exception": false,
     "start_time": "2022-05-02T15:55:32.683201",
     "status": "completed"
    },
    "tags": []
   },
   "source": [
    "These two plots show that no conclusions can be drawn from the type of weather and total points scored, but this is mainly because their is not enough data (games played) for each category, that it would be fair to use these plots."
   ]
  },
  {
   "cell_type": "markdown",
   "id": "2142c600",
   "metadata": {
    "papermill": {
     "duration": 0.036133,
     "end_time": "2022-05-02T15:55:32.792002",
     "exception": false,
     "start_time": "2022-05-02T15:55:32.755869",
     "status": "completed"
    },
    "tags": []
   },
   "source": [
    "So we pretty much have a good idea of what variables of weather may effect the total points of football games\n",
    "after looking through all these plots."
   ]
  },
  {
   "cell_type": "markdown",
   "id": "d38e3302",
   "metadata": {
    "papermill": {
     "duration": 0.036177,
     "end_time": "2022-05-02T15:55:32.864833",
     "exception": false,
     "start_time": "2022-05-02T15:55:32.828656",
     "status": "completed"
    },
    "tags": []
   },
   "source": [
    "The conclusions that can be drawn are: \n",
    "\n",
    "1. Games with greater wind speed may lead to less total points being scored in a football game.\n",
    "2. Temperature and humidity have no significant effect on the total points scored in a football game.\n",
    "3. Typically more points will be scored in games played in a dome versus outside. I believe this may because the dome helps to block wind which we have found does effect total points scored in football games.\n",
    "4. We do not have enough data to prove that games played in snow lead to more points scored in football games. (Typically we need sample sizes of atleast a 100 to show that a category could be \"statistically significant\")"
   ]
  },
  {
   "cell_type": "code",
   "execution_count": 17,
   "id": "16e4f234",
   "metadata": {
    "execution": {
     "iopub.execute_input": "2022-05-02T15:55:32.942282Z",
     "iopub.status.busy": "2022-05-02T15:55:32.941154Z",
     "iopub.status.idle": "2022-05-02T15:55:32.978026Z",
     "shell.execute_reply": "2022-05-02T15:55:32.977450Z",
     "shell.execute_reply.started": "2022-05-02T15:54:52.753443Z"
    },
    "papermill": {
     "duration": 0.076623,
     "end_time": "2022-05-02T15:55:32.978187",
     "exception": false,
     "start_time": "2022-05-02T15:55:32.901564",
     "status": "completed"
    },
    "tags": []
   },
   "outputs": [
    {
     "name": "stdout",
     "output_type": "stream",
     "text": [
      "0.5206041976798195 0.08533712980993968\n",
      "0.49688470958350983\n"
     ]
    }
   ],
   "source": [
    "x = games_2010s['total_pts'].values\n",
    "y = games_2010s['score_home'].values\n",
    "\n",
    "new_x = []\n",
    "new_y = []\n",
    "\n",
    "for item in x:\n",
    "    if str(item) != 'nan':\n",
    "        new_x.append(item)\n",
    "        \n",
    "for item in y:\n",
    "    if str(item) != 'nan':\n",
    "        new_y.append(item)\n",
    "\n",
    "mean_x = np.mean(new_x)\n",
    "mean_y = np.mean(new_y)\n",
    "\n",
    "num = 0.0 \n",
    "den = 0.0\n",
    "\n",
    "m = len(new_x)\n",
    "\n",
    "for i in range(m):\n",
    "    num += (new_x[i] - mean_x) * (new_y[i] - mean_y)\n",
    "    den += (new_x[i] - mean_x) ** 2\n",
    "\n",
    "b1 = num / den\n",
    "b0 = mean_y - (b1 * mean_x)\n",
    "\n",
    "print(b1, b0)\n",
    "\n",
    "TSS = 0\n",
    "RSS = 0\n",
    "for i in range(m):\n",
    "    ypred = (b1 * new_x[i]) + b0\n",
    "    TSS += (new_y[i] - mean_y) ** 2\n",
    "    RSS += (new_y[i] - ypred) ** 2\n",
    "r2 = 1 - (RSS / TSS)\n",
    "\n",
    "print(r2)\n"
   ]
  }
 ],
 "metadata": {
  "kernelspec": {
   "display_name": "Python 3",
   "language": "python",
   "name": "python3"
  },
  "language_info": {
   "codemirror_mode": {
    "name": "ipython",
    "version": 3
   },
   "file_extension": ".py",
   "mimetype": "text/x-python",
   "name": "python",
   "nbconvert_exporter": "python",
   "pygments_lexer": "ipython3",
   "version": "3.7.12"
  },
  "papermill": {
   "default_parameters": {},
   "duration": 15.865276,
   "end_time": "2022-05-02T15:55:33.626046",
   "environment_variables": {},
   "exception": null,
   "input_path": "__notebook__.ipynb",
   "output_path": "__notebook__.ipynb",
   "parameters": {},
   "start_time": "2022-05-02T15:55:17.760770",
   "version": "2.3.3"
  }
 },
 "nbformat": 4,
 "nbformat_minor": 5
}
